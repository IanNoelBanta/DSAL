{
  "nbformat": 4,
  "nbformat_minor": 0,
  "metadata": {
    "colab": {
      "name": "Lab 1-Challenge part 1.ipynb",
      "provenance": [],
      "collapsed_sections": [],
      "authorship_tag": "ABX9TyN95OGDFNo4QJlYRaDVNnJu",
      "include_colab_link": true
    },
    "kernelspec": {
      "name": "python3",
      "display_name": "Python 3"
    },
    "language_info": {
      "name": "python"
    }
  },
  "cells": [
    {
      "cell_type": "markdown",
      "metadata": {
        "id": "view-in-github",
        "colab_type": "text"
      },
      "source": [
        "<a href=\"https://colab.research.google.com/github/Yaniii2021/DSAL/blob/main/Lab_1_Challenge_part_1.ipynb\" target=\"_parent\"><img src=\"https://colab.research.google.com/assets/colab-badge.svg\" alt=\"Open In Colab\"/></a>"
      ]
    },
    {
      "cell_type": "markdown",
      "metadata": {
        "id": "lVoZ-u9FaA_a"
      },
      "source": [
        "#Class"
      ]
    },
    {
      "cell_type": "code",
      "metadata": {
        "id": "0jYMMJp4Z4GY"
      },
      "source": [
        "class Food:\n",
        "\n",
        "  #constructor\n",
        "  def __init__(self):\n",
        "    print('A new food has been cooked.')\n",
        "    self.ingredients = 'No ingredients yet.'\n",
        "    self.price = 0\n",
        "\n",
        "  #methods\n",
        "  def getDetails(self):\n",
        "    print(f'''\n",
        "Ingredients: {self.ingredients}\n",
        "Price: {self.price}\n",
        "    ''')\n",
        "  def setDetails(self):\n",
        "    self.ingredients = input('Please input the ingredients for your food: ')\n",
        "    self.price = input('Please input the price: ')\n",
        "    print(' ')\n",
        "\n",
        "\n",
        "\n",
        "\n",
        "\n",
        "\n",
        "\n",
        "\n",
        "\n",
        "  \n"
      ],
      "execution_count": null,
      "outputs": []
    }
  ]
}