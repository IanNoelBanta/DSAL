{
  "nbformat": 4,
  "nbformat_minor": 0,
  "metadata": {
    "colab": {
      "name": "DSA-Lab-Activity-1.ipynb",
      "provenance": [],
      "collapsed_sections": [],
      "authorship_tag": "ABX9TyNYi/RxzBIyGEd/iHB2d5Gw",
      "include_colab_link": true
    },
    "kernelspec": {
      "display_name": "Python 3",
      "name": "python3"
    },
    "language_info": {
      "name": "python"
    }
  },
  "cells": [
    {
      "cell_type": "markdown",
      "metadata": {
        "id": "view-in-github",
        "colab_type": "text"
      },
      "source": [
        "<a href=\"https://colab.research.google.com/github/Yaniii2021/DSAL/blob/main/DSA_Lab_Activity_1.ipynb\" target=\"_parent\"><img src=\"https://colab.research.google.com/assets/colab-badge.svg\" alt=\"Open In Colab\"/></a>"
      ]
    },
    {
      "cell_type": "markdown",
      "metadata": {
        "id": "aWRdPiHVWsq9"
      },
      "source": [
        "###PYTHON FILES\n"
      ]
    },
    {
      "cell_type": "markdown",
      "metadata": {
        "id": "1Eh_pAtJUlc1"
      },
      "source": [
        "#Lab 1_1"
      ]
    },
    {
      "cell_type": "code",
      "metadata": {
        "id": "9k2Ng10JTE-b"
      },
      "source": [
        "print(\"Do you watch anime?\")\n",
        "answer = input()\n",
        "\n",
        "if answer == \"yes\":\n",
        "    print(\"Nice Nice Nice\")\n",
        "else:\n",
        "    print(\"Please watch anime.\")\n"
      ],
      "execution_count": null,
      "outputs": []
    },
    {
      "cell_type": "markdown",
      "metadata": {
        "id": "-GUhIqICU6iq"
      },
      "source": [
        "##Lab 1_2"
      ]
    },
    {
      "cell_type": "code",
      "metadata": {
        "colab": {
          "background_save": true
        },
        "id": "36LIpWhNXWQi"
      },
      "source": [
        "print(\"How old are you?\")\n",
        "age = int(input())  # It is important to convert to int, by default input is a string.\n",
        "\n",
        "if age < 0:\n",
        "    print(\"Fetus ka ghorl?\")\n",
        "elif age <= 17:\n",
        "    print(\"You are young!\")\n",
        "elif age == 18:\n",
        "    print(\"You are of legal age!\")\n",
        "elif age < 0:\n",
        "    print(\"Fetus ka ghorl?\")\n",
        "elif age <= 100:\n",
        "    print(\"Go and explore the mysteries of life. \")\n",
        "else:\n",
        "    print(\"You're an immortal!\")\n",
        "\n"
      ],
      "execution_count": null,
      "outputs": []
    },
    {
      "cell_type": "markdown",
      "metadata": {
        "id": "h1GhoN1YU4bS"
      },
      "source": [
        "##Lab 1_3"
      ]
    },
    {
      "cell_type": "code",
      "metadata": {
        "id": "RfGiWe3uXW2d"
      },
      "source": [
        "def float_to_strings(chosenLuckyNo):\n",
        "    switcher = {\n",
        "        0: \"You'll get hungry after reading this. Try eating some vegetables.\",\n",
        "        1: \"You'll receive plus one on your quiz if you are the frst one to comment on the discussion board. \",\n",
        "        1.25: \"You'll receive plus two on your quiz if you are the last one to comment on the discussion board. \",\n",
        "        2: \"You might receive additional allowance if you show this to your parents. \",\n",
        "        5: \"This is a bad omen. Go and say \\\"I love you\\\" to your parents to avoid misfortune. \"\n",
        "\n",
        "    }\n",
        "\n",
        "    # get() method of dictionary data type returns\n",
        "    # value of passed argument if it is present\n",
        "    # in dictionary otherwise second argument will\n",
        "    # be assigned as default value of passed argument\n",
        "    return switcher.get(chosenLuckyNo, \"My humble opinion for you is that the stars are just guides,\"\n",
        "                                       \" at the end of the day we make our own destiny!\")\n",
        "\n",
        "\n",
        "print(\"I will guess your fortune! \\nPick a number from 0.00 to 5.00!\")\n",
        "luckyNumber = float(input())\n",
        "print(float_to_strings(luckyNumber))\n",
        "\n"
      ],
      "execution_count": null,
      "outputs": []
    },
    {
      "cell_type": "markdown",
      "metadata": {
        "id": "j-md9CpQVpRS"
      },
      "source": [
        "##Lab 1_4"
      ]
    },
    {
      "cell_type": "code",
      "metadata": {
        "id": "rpX7ZWfzXXe0"
      },
      "source": [
        "counter = 0\n",
        "maximumLoop = 5\n",
        "for numberOfRepetition in range (maximumLoop):\n",
        "    counter += 1\n",
        "    print(\"Round \" + str(counter) + \" out of \" + str(maximumLoop) + \" Rounds!\")\n",
        "\n"
      ],
      "execution_count": null,
      "outputs": []
    },
    {
      "cell_type": "markdown",
      "metadata": {
        "id": "AayDR8r6V0M0"
      },
      "source": [
        "##Lab 1_5"
      ]
    },
    {
      "cell_type": "code",
      "metadata": {
        "id": "zK06oH7dXYDC"
      },
      "source": [
        "largeFruitBasket = [\"banana\", \"melon\", \"apple\", \"watermelon\", \"pineapple\"]\n",
        "for fruit in largeFruitBasket:\n",
        "    print(fruit)\n",
        "\n"
      ],
      "execution_count": null,
      "outputs": []
    },
    {
      "cell_type": "markdown",
      "metadata": {
        "id": "G8QqtN3BV0AD"
      },
      "source": [
        "##Lab 1_6"
      ]
    },
    {
      "cell_type": "code",
      "metadata": {
        "id": "IBiUkofgXYod"
      },
      "source": [
        "multiplicands = 10\n",
        "multipliers = 10\n",
        "for multiplicand in range(1, multiplicands, 2):\n",
        "    for multiplier in range(1, multipliers, 2):\n",
        "        print(multiplicand * multiplier, end=\"\\t\")\n",
        "    print()\n",
        "\n"
      ],
      "execution_count": null,
      "outputs": []
    },
    {
      "cell_type": "markdown",
      "metadata": {
        "id": "q7bgWvqYVzzb"
      },
      "source": [
        "##Lab 1_7"
      ]
    },
    {
      "cell_type": "code",
      "metadata": {
        "id": "bFBpJcOQXZN2"
      },
      "source": [
        "class Student:\n",
        "\n",
        "    studentCount = 0  # This is a class variable\n",
        "    studentList = []\n",
        "\n",
        "    def __init__(self):\n",
        "        print(\"New Student has been INSTANTIATED.\")\n",
        "        self.studentNumber = 0 # This is an instance variable\n",
        "        self.name = \"default name\"\n",
        "        Student.studentCount += 1\n",
        "\n",
        "    def displayStudentDetails(self):\n",
        "        print(\"Name : \", self.name, \", Student Number: \", self.studentNumber)\n",
        "\n",
        "    def changeStudentDetails(self):\n",
        "        print(\"Please input new Name: \"),\n",
        "        self.name = input()\n",
        "        print(\"Please input new Student Number: \"),\n",
        "        self.studentNumber = int(input())\n",
        "        print(\"Success! Student Details has been updated. \")\n",
        "        self.displayStudentDetails()\n",
        "\n",
        "    def displayStudentCount():\n",
        "        print(\"Current Number of Students: \" + str(Student.studentCount))\n",
        "\n",
        "\n",
        "\n",
        "class Instructor:\n",
        "    instructorCount = 0\n",
        "    def __init__(self, name , instructorNumber, salary):\n",
        "        self.name = name\n",
        "        self.instructorNumber = instructorNumber\n",
        "        self.salary = salary\n",
        "        Instructor.instructorCount += 1\n",
        "        print(\"New instructor has been added!\")\n",
        "        print(\"Name: {}\\tInstructor No.: {}\\tSalary: {}\".format(name, instructorNumber,salary))\n",
        "\n",
        "    def displayInstructorNumber(self):\n",
        "        print (\"Instructor Number is: \" + self.instructorNumber )\n",
        "\n",
        "    def displayInstructorName(self):\n",
        "        print (\"Instructor's Name is: \" + self.name )\n",
        "\n",
        "    def displayInstructorSalary(self):\n",
        "        print (\"Instructor's Salary is: \" + self.salary )\n",
        "\n",
        "    def displayInstructorDetails(self):\n",
        "        print(\"---Instructor Detail---\")\n",
        "        print(\"Name: \"+ self.name, end=\"\\t\")\n",
        "        print(\"Ins No.: \" + str(self.instructorNumber), end=\"\\t\")\n",
        "        print(\"Salary: \" + str(self.salary))\n",
        "\n",
        "    def changeInstructorNumber(self):\n",
        "        print(\"Please input new Instructor Number: \"),\n",
        "        self.instructorNumber = int(input())\n",
        "        print(\"Success! New Instructor Number is:  \" + str(self.instructorNumber))\n",
        "\n",
        "    def changeInstructorDetails(self,nm = None,instructorNo = None ,slry = None):\n",
        "        print(\"Success! Instuctor Detail has been updated!\")\n",
        "        if nm is not None:\n",
        "            self.name = nm\n",
        "            print(\"New Name is: \"+ self.name, end=\"\\t\")\n",
        "        if instructorNo is not None:\n",
        "            self.instructorNumber = instructorNo\n",
        "            print(\"New Ins No. is: \" + str(self.instructorNumber), end=\"\\t\")\n",
        "        if slry is not None:\n",
        "            self.salary = slry\n",
        "            print(\"New Salary is: \" + str(self.salary), end=\"\\t\")\n",
        "        print()\n",
        "\n",
        "    def displayInstructorCount():\n",
        "        print(\"Current Number of Instructors: \" + str(Instructor.instructorCount))\n"
      ],
      "execution_count": null,
      "outputs": []
    },
    {
      "cell_type": "markdown",
      "metadata": {
        "id": "8J41zbFiVzl6"
      },
      "source": [
        "##Lab 1_8"
      ]
    },
    {
      "cell_type": "code",
      "metadata": {
        "id": "QBtvWTYBXiNG",
        "colab": {
          "base_uri": "https://localhost:8080/",
          "height": 367
        },
        "outputId": "3f286e3e-5bc6-4648-d28e-a27ae675e4b4"
      },
      "source": [
        "import DSA_Lab_1.Lab1_7 as outsideClass\n",
        "# from DSA_Lab_1.Lab1_7 import *\n",
        "print(\"Welcome!!!\")\n",
        "# Class Variable can be used without instantiating.\n",
        "print(\"Student Count is: \" + str(outsideClass.Student.studentCount))\n",
        "outsideClass.Student.displayStudentCount()\n",
        "outsideClass.Student.studentCount = 10\n",
        "print(\"Student Count is: \" + str(outsideClass.Student.studentCount))\n",
        "student1 = outsideClass.Student()  # Instantiation\n",
        "student1.displayStudentDetails()\n",
        "student1.changeStudentDetails()\n",
        "outsideClass.Student.displayStudentCount()\n",
        "student2 = outsideClass.Student()\n",
        "outsideClass.Student.displayStudentCount()\n",
        "\n"
      ],
      "execution_count": null,
      "outputs": [
        {
          "output_type": "error",
          "ename": "ModuleNotFoundError",
          "evalue": "ignored",
          "traceback": [
            "\u001b[0;31m---------------------------------------------------------------------------\u001b[0m",
            "\u001b[0;31mModuleNotFoundError\u001b[0m                       Traceback (most recent call last)",
            "\u001b[0;32m<ipython-input-3-30d13dc5bc76>\u001b[0m in \u001b[0;36m<module>\u001b[0;34m()\u001b[0m\n\u001b[0;32m----> 1\u001b[0;31m \u001b[0;32mimport\u001b[0m \u001b[0mDSA_Lab_1\u001b[0m\u001b[0;34m.\u001b[0m\u001b[0mLab1_7\u001b[0m \u001b[0;32mas\u001b[0m \u001b[0moutsideClass\u001b[0m\u001b[0;34m\u001b[0m\u001b[0;34m\u001b[0m\u001b[0m\n\u001b[0m\u001b[1;32m      2\u001b[0m \u001b[0;31m# from DSA_Lab_1.Lab1_7 import *\u001b[0m\u001b[0;34m\u001b[0m\u001b[0;34m\u001b[0m\u001b[0;34m\u001b[0m\u001b[0m\n\u001b[1;32m      3\u001b[0m \u001b[0mprint\u001b[0m\u001b[0;34m(\u001b[0m\u001b[0;34m\"Welcome!!!\"\u001b[0m\u001b[0;34m)\u001b[0m\u001b[0;34m\u001b[0m\u001b[0;34m\u001b[0m\u001b[0m\n\u001b[1;32m      4\u001b[0m \u001b[0;31m# Class Variable can be used without instantiating.\u001b[0m\u001b[0;34m\u001b[0m\u001b[0;34m\u001b[0m\u001b[0;34m\u001b[0m\u001b[0m\n\u001b[1;32m      5\u001b[0m \u001b[0mprint\u001b[0m\u001b[0;34m(\u001b[0m\u001b[0;34m\"Student Count is: \"\u001b[0m \u001b[0;34m+\u001b[0m \u001b[0mstr\u001b[0m\u001b[0;34m(\u001b[0m\u001b[0moutsideClass\u001b[0m\u001b[0;34m.\u001b[0m\u001b[0mStudent\u001b[0m\u001b[0;34m.\u001b[0m\u001b[0mstudentCount\u001b[0m\u001b[0;34m)\u001b[0m\u001b[0;34m)\u001b[0m\u001b[0;34m\u001b[0m\u001b[0;34m\u001b[0m\u001b[0m\n",
            "\u001b[0;31mModuleNotFoundError\u001b[0m: No module named 'DSA_Lab_1'",
            "",
            "\u001b[0;31m---------------------------------------------------------------------------\u001b[0;32m\nNOTE: If your import is failing due to a missing package, you can\nmanually install dependencies using either !pip or !apt.\n\nTo view examples of installing some common dependencies, click the\n\"Open Examples\" button below.\n\u001b[0;31m---------------------------------------------------------------------------\u001b[0m\n"
          ],
          "errorDetails": {
            "actions": [
              {
                "action": "open_url",
                "actionText": "Open Examples",
                "url": "/notebooks/snippets/importing_libraries.ipynb"
              }
            ]
          }
        }
      ]
    },
    {
      "cell_type": "markdown",
      "metadata": {
        "id": "QbdSSx2vVzXL"
      },
      "source": [
        "##Lab 1_9"
      ]
    },
    {
      "cell_type": "code",
      "metadata": {
        "id": "GKTmA9ABXivi"
      },
      "source": [
        "import Lab1_7 as outsideClass\n",
        "\n",
        "print(\"Welcome!!!\")\n",
        "outsideClass.Student.displayStudentCount() \n",
        "outsideClass.Instructor.displayInstructorCount()\n",
        "\n",
        "instructor1 = outsideClass.Instructor(\"Abi\", 123, 10000)\n",
        "outsideClass.Instructor.displayInstructorCount()\n",
        "instructor2 = outsideClass.Instructor(\"Kyle\", 124, 10500)\n",
        "outsideClass.Instructor.displayInstructorCount()\n",
        "instructor3 = outsideClass.Instructor(\"Zyril\", 125, 10500)\n",
        "outsideClass.Instructor.displayInstructorCount()\n",
        "\n",
        "instructor1.changeInstructorDetails(\"Aby\")\n",
        "instructor2.changeInstructorDetails(\"Kyla\", 127)\n",
        "instructor3.changeInstructorDetails(\"Cyrille\", 128, 15000)\n",
        "\n",
        "outsideClass.Instructor.displayInstructorCount()\n",
        "\n"
      ],
      "execution_count": null,
      "outputs": []
    },
    {
      "cell_type": "markdown",
      "metadata": {
        "id": "JNUu7uanVzFO"
      },
      "source": [
        "##Lab 1_10"
      ]
    },
    {
      "cell_type": "code",
      "metadata": {
        "id": "z2U7Z5PZXjU9"
      },
      "source": [
        "from abc import ABC, abstractmethod\n",
        "\n",
        "class Fruits(ABC):\n",
        "    def color(self):\n",
        "        pass\n",
        "\n",
        "class Orange(Fruits):\n",
        "    def color(self):\n",
        "        print(\"My color is, the same with my name, orange!\")\n",
        "\n",
        "class Tomato(Fruits):\n",
        "    def color(self):\n",
        "        print(\"Yes! I'm a fruit and my color is red-orange.\")\n",
        "\n",
        "class Apple(Fruits):\n",
        "    def color(self):\n",
        "        print(\"I'm red as the lips of Snow White.\")\n",
        "\n",
        "class Mango(Fruits):\n",
        "    def color(self):\n",
        "        print(\"I'm sometimes green and sometimes yellow.!\")\n",
        "\n",
        "\n",
        "fruit1 = Orange()\n",
        "fruit1.color()\n",
        "fruit2 = Tomato()\n",
        "fruit2.color()\n",
        "fruit3 = Apple()\n",
        "fruit3.color()\n",
        "fruit4 = Mango()\n",
        "fruit4.color()\n",
        "\n",
        "\n",
        "\n"
      ],
      "execution_count": null,
      "outputs": []
    },
    {
      "cell_type": "markdown",
      "metadata": {
        "id": "IFJUN5qmVyyC"
      },
      "source": [
        "##Lab 1_11"
      ]
    },
    {
      "cell_type": "code",
      "metadata": {
        "id": "Fq9fG9MDXj8I"
      },
      "source": [
        "class Base:\n",
        "    def __init__(self):\n",
        "        print(\"A new Base Object has been instantiated!.\")\n",
        "        # Public Member\n",
        "        self.member1 = 1\n",
        "        # Protected member\n",
        "        self._member2 = 2\n",
        "        # Private Member\n",
        "        self.__member3 = 3\n",
        "        # Protected member\n",
        "        self._member4 = self.__member3 + 1\n",
        "        print(\"member1: {}\\tmember2: {}\\tmember3: {}\\tmember4: {}\".format(self.member1 ,self._member2,self.__member3,self._member4))\n",
        "\n",
        "class Derived(Base):\n",
        "    def __init__(self):\n",
        "        print(\"A new Derived Object has been instantiated!.\")\n",
        "        Base.__init__(self)\n",
        "        print(\"A Base Object has been initialized in the Derived Class\")\n",
        "        # print(\"member1: {}\\tmember2: {}\\tmember3: {}\".format(self.member1 ,self._member2,self.__member3 ))\n",
        "\n",
        "\n",
        "object1 = Base()\n",
        "print(object1.member1)\n",
        "print(object1._member2)\n",
        "# print( object1.__member3) #if this is uncommented, an error will occur\n",
        "print(object1._member4)\n",
        "\n",
        "object2 = Derived()\n",
        "print(object2.member1)\n",
        "print(object2._member2)\n",
        "# print( object2.__member3)\n",
        "print(object2._member4)\n",
        "\n",
        "\n",
        "\n"
      ],
      "execution_count": null,
      "outputs": []
    },
    {
      "cell_type": "markdown",
      "metadata": {
        "id": "0z2uvTVXVpGi"
      },
      "source": [
        "##Lab 1_12"
      ]
    },
    {
      "cell_type": "code",
      "metadata": {
        "id": "N9zMZalPXkbk"
      },
      "source": [
        "class Animal(object):\n",
        "    def __init__(self, name):\n",
        "        self.name = name\n",
        "    def getName(self):\n",
        "        print(self.name)\n",
        "\n",
        "class Dog(Animal):\n",
        "    def displayAnimalSound(self):\n",
        "        print(\"Woof woof\")\n",
        "\n",
        "\n",
        "animal1 = Animal(\"Blue\")\n",
        "animal1.getName()\n",
        "# animal.displayAnimalSound() # If uncommented, an error will occur.\n",
        "dog1 = Dog(\"Kuro\")\n",
        "dog1.getName()  # getName is an inherited method from Animal Class.\n",
        "dog1.displayAnimalSound()\n",
        "# Unlike the animal.displayAnimalSound(), the code above will work.\n",
        "\n"
      ],
      "execution_count": null,
      "outputs": []
    },
    {
      "cell_type": "markdown",
      "metadata": {
        "id": "0txRhzgYVo4S"
      },
      "source": [
        "##Lab 1_13"
      ]
    },
    {
      "cell_type": "code",
      "metadata": {
        "id": "J1u_S6XHXk99"
      },
      "source": [
        "class Student():\n",
        "\tdef name(self):\n",
        "\t\tprint(\"Lily Cruz\")\n",
        "\n",
        "\tdef address(self):\n",
        "\t\tprint(\"Makati City\")\n",
        "\n",
        "\tdef hairColor(self):\n",
        "\t\tprint(\"Gold\")\n",
        "\n",
        "\tdef bloodType(self):\n",
        "\t\tprint(\"AB\")\n",
        "\n",
        "class Instructor():\n",
        "\tdef name(self):\n",
        "\t\tprint(\"Ivy Aguas\")\n",
        "\n",
        "\tdef address(self):\n",
        "\t\tprint(\"Ardiente City\")\n",
        "\n",
        "\tdef hairColor(self):\n",
        "\t\tprint(\"Black\")\n",
        "\n",
        "\tdef bloodSugar(self):\n",
        "\t\tprint(\"100\")\n",
        "\n",
        "\n",
        "object1 = Student()\n",
        "object2 = Instructor()\n",
        "for human in (object1, object2):\n",
        "\thuman.name()\n",
        "\thuman.address()\n",
        "\thuman.hairColor()\n",
        "\t# human.bloodType() # An error will occur. Method doesn't exist in Instructor class\n",
        "\t# human.bloodSugar() # An error will occur. Method doesn't exist in Student class\n",
        "\n",
        "\n"
      ],
      "execution_count": null,
      "outputs": []
    },
    {
      "cell_type": "markdown",
      "metadata": {
        "id": "t3vDm0OEVojq"
      },
      "source": [
        "##Lab 1_14"
      ]
    },
    {
      "cell_type": "code",
      "metadata": {
        "id": "USuMG0nhXlbC"
      },
      "source": [
        "class Animal(object):\n",
        "    def __init__(self, name):\n",
        "        self.name = name\n",
        "    def getName(self):\n",
        "        print(self.name)\n",
        "    def displayNumberofLegs(self):\n",
        "        print(\"default text\")\n",
        "\n",
        "class Dog(Animal):\n",
        "    def displayAnimalSound(self):\n",
        "        print(\"Woof woof\")\n",
        "    def displayNumberofLegs(self):\n",
        "        print(\"This animal have 4 Legs\")\n",
        "\n",
        "class Cat(Dog):\n",
        "    def displayAnimalSound(self):\n",
        "        print(\"Meow Meow\")\n",
        "        print(\"swswswsws\")\n",
        "\n",
        "\n",
        "animal1=Animal(\"Blue\")\n",
        "animal1.getName()\n",
        "animal1.displayNumberofLegs()\n",
        "dog1 = Dog(\"Kuro\")\n",
        "dog1.getName()\n",
        "dog1.displayAnimalSound()\n",
        "dog1.displayNumberofLegs()\n",
        "cat1 = Cat(\"Megumi\")\n",
        "cat1.getName()\n",
        "cat1.displayAnimalSound()\n",
        "cat1.displayNumberofLegs()\n",
        "\n",
        "\n"
      ],
      "execution_count": null,
      "outputs": []
    },
    {
      "cell_type": "markdown",
      "metadata": {
        "id": "22XHDlu6Vn6a"
      },
      "source": [
        "##Lab 1_15"
      ]
    },
    {
      "cell_type": "code",
      "metadata": {
        "id": "AAfMKYfBXl-o"
      },
      "source": [
        "class Student():\n",
        "\tdef name(self):\n",
        "\t\tprint(\"Lily Cruz\")\n",
        "\n",
        "\tdef address(self):\n",
        "\t\tprint(\"Makati City\")\n",
        "\n",
        "\tdef hairColor(self):\n",
        "\t\tprint(\"Gold\")\n",
        "\n",
        "\tdef bloodType(self):\n",
        "\t\tprint(\"AB\")\n",
        "\n",
        "class Instructor():\n",
        "\tdef name(self):\n",
        "\t\tprint(\"Ivy Aguas\")\n",
        "\n",
        "\tdef address(self):\n",
        "\t\tprint(\"Ardiente City\")\n",
        "\n",
        "\tdef hairColor(self):\n",
        "\t\tprint(\"Black\")\n",
        "\n",
        "\tdef bloodSugar(self):\n",
        "\t\tprint(\"100\")\n",
        "\n",
        "def func(obj):\n",
        "\t    obj.name()\n",
        "\t    obj.address()\n",
        "\t    obj.hairColor()\n",
        "\n",
        "human1 = Student()\n",
        "human2 = Instructor()\n",
        "\n",
        "func(human1)\n",
        "func(human2)\n",
        "\n"
      ],
      "execution_count": null,
      "outputs": []
    }
  ]
}