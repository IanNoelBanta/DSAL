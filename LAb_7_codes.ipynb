{
  "nbformat": 4,
  "nbformat_minor": 0,
  "metadata": {
    "colab": {
      "name": "LAb 7 codes.ipynb",
      "provenance": [],
      "collapsed_sections": [],
      "authorship_tag": "ABX9TyOvWvnGNJQ3J10M+MIe8pwY",
      "include_colab_link": true
    },
    "kernelspec": {
      "name": "python3",
      "display_name": "Python 3"
    },
    "language_info": {
      "name": "python"
    }
  },
  "cells": [
    {
      "cell_type": "markdown",
      "metadata": {
        "id": "view-in-github",
        "colab_type": "text"
      },
      "source": [
        "<a href=\"https://colab.research.google.com/github/Yaniii2021/DSAL/blob/main/LAb_7_codes.ipynb\" target=\"_parent\"><img src=\"https://colab.research.google.com/assets/colab-badge.svg\" alt=\"Open In Colab\"/></a>"
      ]
    },
    {
      "cell_type": "code",
      "metadata": {
        "colab": {
          "base_uri": "https://localhost:8080/"
        },
        "id": "HXiPkeJp9LMW",
        "outputId": "7c11fb7c-c5a0-4199-8a3a-9b8488017a34"
      },
      "source": [
        "# Declare a dictionary\n",
        "dictionary1 = {'Name': 'Zara',\n",
        "               'Age': 7,\n",
        "               'Birth_date': '01/01/1998'}\n",
        "\n",
        "# Accessing the dictionary with its key\n",
        "print(\"dict['Name']: \", dictionary1['Name'])\n",
        "print(\"dict['Age']: \", dictionary1['Age'])\n",
        "print(\"dict['Birth_date']: \", dictionary1['Birth_date'])\n",
        "\n",
        "names = {\n",
        "    '0': 'Abi',\n",
        "    '1': 'Bea',\n",
        "    '2': 'Charlie',\n",
        "    '3': 'Diana',\n",
        "    '4': 'Eva',\n",
        "    '5': 'France',\n",
        "    '6': 'Gigi',\n",
        "    '7': 'Hilda',\n",
        "    '8': 'Itzy',\n",
        "    '9': 'Jessa'}\n",
        "print(names)\n",
        "names['0'] = \"Abigayle\"\n",
        "print(names)\n",
        "del names['7']\n",
        "print(names)\n",
        "names.pop('5')\n",
        "print(names)\n",
        "names.clear()\n",
        "print(names)\n",
        "del names\n",
        "# print(names)  # An error will occur.\n",
        "\n"
      ],
      "execution_count": 1,
      "outputs": [
        {
          "output_type": "stream",
          "name": "stdout",
          "text": [
            "dict['Name']:  Zara\n",
            "dict['Age']:  7\n",
            "dict['Birth_date']:  01/01/1998\n",
            "{'0': 'Abi', '1': 'Bea', '2': 'Charlie', '3': 'Diana', '4': 'Eva', '5': 'France', '6': 'Gigi', '7': 'Hilda', '8': 'Itzy', '9': 'Jessa'}\n",
            "{'0': 'Abigayle', '1': 'Bea', '2': 'Charlie', '3': 'Diana', '4': 'Eva', '5': 'France', '6': 'Gigi', '7': 'Hilda', '8': 'Itzy', '9': 'Jessa'}\n",
            "{'0': 'Abigayle', '1': 'Bea', '2': 'Charlie', '3': 'Diana', '4': 'Eva', '5': 'France', '6': 'Gigi', '8': 'Itzy', '9': 'Jessa'}\n",
            "{'0': 'Abigayle', '1': 'Bea', '2': 'Charlie', '3': 'Diana', '4': 'Eva', '6': 'Gigi', '8': 'Itzy', '9': 'Jessa'}\n",
            "{}\n"
          ]
        }
      ]
    },
    {
      "cell_type": "code",
      "metadata": {
        "colab": {
          "base_uri": "https://localhost:8080/"
        },
        "id": "jBqr5DVK9Raa",
        "outputId": "39a04afa-103f-4ae0-c7bd-4ab250e09350"
      },
      "source": [
        "# Modified from: https://www.geeksforgeeks.org/implementation-of-hashing-with-chaining-in-python/\n",
        "\n",
        "# Function to display hashtable\n",
        "def display_hash(hashTable):\n",
        "    for i in range(len(hashTable)):\n",
        "        print(i, end=\" \")\n",
        "\n",
        "        for j in hashTable[i]:\n",
        "            print(\"-->\", end=\" \")\n",
        "            print(j, end=\" \")\n",
        "\n",
        "        print()\n",
        "\n",
        "    # Creating Hashtable as\n",
        "\n",
        "\n",
        "# a nested list.\n",
        "HashTable = [[] for _ in range(10)]\n",
        "\n",
        "\n",
        "# Hashing Function to return\n",
        "# key for every value.\n",
        "def Hashing(keyvalue):\n",
        "    return keyvalue % len(HashTable)\n",
        "\n",
        "\n",
        "# Insert Function to add\n",
        "# values to the hash table\n",
        "def insert(Hashtable, keyvalue, value):\n",
        "    hash_key = Hashing(keyvalue)\n",
        "    Hashtable[hash_key].append(value)\n",
        "\n",
        "\n",
        "# Driver Code\n",
        "insert(HashTable, 10, 'Allahabad')\n",
        "insert(HashTable, 25, 'Mumbai')\n",
        "insert(HashTable, 20, 'Mathura')\n",
        "insert(HashTable, 9, 'Delhi')\n",
        "insert(HashTable, 21, 'Punjab')\n",
        "insert(HashTable, 21, 'Noida')\n",
        "insert(HashTable, 21, 'Punjab')\n",
        "insert(HashTable, 21, 'Noida')\n",
        "insert(HashTable, 21, 'Punjab')\n",
        "insert(HashTable, 21, 'Noida')\n",
        "insert(HashTable, 21, 'Punjab')\n",
        "insert(HashTable, 21, 'Noida')\n",
        "insert(HashTable, 21, 'Punjab')\n",
        "insert(HashTable, 21, 'Noida')\n",
        "insert(HashTable, 21, 'Punjab')\n",
        "insert(HashTable, 21, 'Noida')\n",
        "insert(HashTable, 21, 'Punjab')\n",
        "insert(HashTable, 21, 'Noida')\n",
        "insert(HashTable, 21, 'Punjab')\n",
        "insert(HashTable, 21, 'Noida')\n",
        "\n",
        "display_hash(HashTable)"
      ],
      "execution_count": 2,
      "outputs": [
        {
          "output_type": "stream",
          "name": "stdout",
          "text": [
            "0 --> Allahabad --> Mathura \n",
            "1 --> Punjab --> Noida --> Punjab --> Noida --> Punjab --> Noida --> Punjab --> Noida --> Punjab --> Noida --> Punjab --> Noida --> Punjab --> Noida --> Punjab --> Noida \n",
            "2 \n",
            "3 \n",
            "4 \n",
            "5 --> Mumbai \n",
            "6 \n",
            "7 \n",
            "8 \n",
            "9 --> Delhi \n"
          ]
        }
      ]
    },
    {
      "cell_type": "code",
      "metadata": {
        "colab": {
          "base_uri": "https://localhost:8080/"
        },
        "id": "XDCeoGmV9VHd",
        "outputId": "6f7e1ef7-7cc1-4fca-ffec-b5c1e6ac45dc"
      },
      "source": [
        "# Create the dictionary with graph elements\n",
        "graph = { \"AdU\" : [\"Park\",\"BrgyHall\",\"Cafeteria\"],\n",
        "          \"BrgyHall\" : [\"Pamilihan\", \"CityHall\", \"AdU\"],\n",
        "          \"CityHall\" : [\"Pamilihan\", \"BrgyHall\"],\n",
        "          \"Pamilihan\" : [\"CityHall\",\"BrgyHall\"],\n",
        "          \"Park\" : [\"AdU\"],\n",
        "          \"Cafeteria\" : [\"AdU\"]\n",
        "         }\n",
        "\n",
        "# Print the graph\n",
        "print(graph)"
      ],
      "execution_count": 3,
      "outputs": [
        {
          "output_type": "stream",
          "name": "stdout",
          "text": [
            "{'AdU': ['Park', 'BrgyHall', 'Cafeteria'], 'BrgyHall': ['Pamilihan', 'CityHall', 'AdU'], 'CityHall': ['Pamilihan', 'BrgyHall'], 'Pamilihan': ['CityHall', 'BrgyHall'], 'Park': ['AdU'], 'Cafeteria': ['AdU']}\n"
          ]
        }
      ]
    },
    {
      "cell_type": "code",
      "metadata": {
        "colab": {
          "base_uri": "https://localhost:8080/"
        },
        "id": "hXu4S5Vl9Xmb",
        "outputId": "c714f429-125c-4dad-b97c-ea839805e5d2"
      },
      "source": [
        "# Modified from: https://www.tutorialspoint.com/python_data_structure/python_graphs.htm\n",
        "\n",
        "class Graph:\n",
        "    def __init__(self, gdict=None):\n",
        "        if gdict is None:\n",
        "            gdict = []\n",
        "        self.gdict = gdict\n",
        "\n",
        "    # Get the keys of the dictionary\n",
        "    def getVertices(self):\n",
        "        return list(self.gdict.keys())\n",
        "\n",
        "    def edges(self):\n",
        "        return self.findedges()\n",
        "\n",
        "    def findedges(self):\n",
        "        edgename = []\n",
        "        for vrtx in self.gdict:\n",
        "            for nxtvrtx in self.gdict[vrtx]:\n",
        "                if {nxtvrtx, vrtx} not in edgename:\n",
        "                    edgename.append({vrtx, nxtvrtx})\n",
        "        return edgename\n",
        "\n",
        "    # Add the vertex as a key\n",
        "    def addVertex(self, vrtx):\n",
        "        if vrtx not in self.gdict:\n",
        "            self.gdict[vrtx] = []\n",
        "\n",
        "    # Add the new edge\n",
        "\n",
        "    def AddEdge(self, edge):\n",
        "        edge = set(edge)\n",
        "        (vrtx1, vrtx2) = tuple(edge)\n",
        "        if vrtx1 in self.gdict:\n",
        "            self.gdict[vrtx1].append(vrtx2)\n",
        "        else:\n",
        "            self.gdict[vrtx1] = [vrtx2]\n",
        "\n",
        "\n",
        "# Create the dictionary with graph elements\n",
        "graph_elements = {\"AdU\" : [\"Park\",\"BrgyHall\",\"Cafeteria\"],\n",
        "          \"BrgyHall\" : [\"Pamilihan\", \"CityHall\", \"AdU\"],\n",
        "          \"CityHall\" : [\"Pamilihan\", \"BrgyHall\"],\n",
        "          \"Pamilihan\" : [\"CityHall\",\"BrgyHall\"],\n",
        "          \"Park\" : [\"AdU\"],\n",
        "          \"Cafeteria\" : [\"AdU\"]}\n",
        "\n",
        "g = Graph(graph_elements)\n",
        "\n",
        "\n",
        "print(g.getVertices())\n",
        "print(g.edges())\n",
        "g.addVertex(\"TrainStation\")\n",
        "print(g.getVertices())\n",
        "g.AddEdge({'TrainStation', 'Park'})\n",
        "g.AddEdge({'TrainStation', 'AdU'})\n",
        "print(g.edges())"
      ],
      "execution_count": 4,
      "outputs": [
        {
          "output_type": "stream",
          "name": "stdout",
          "text": [
            "['AdU', 'BrgyHall', 'CityHall', 'Pamilihan', 'Park', 'Cafeteria']\n",
            "[{'Park', 'AdU'}, {'BrgyHall', 'AdU'}, {'Cafeteria', 'AdU'}, {'Pamilihan', 'BrgyHall'}, {'CityHall', 'BrgyHall'}, {'CityHall', 'Pamilihan'}]\n",
            "['AdU', 'BrgyHall', 'CityHall', 'Pamilihan', 'Park', 'Cafeteria', 'TrainStation']\n",
            "[{'Park', 'AdU'}, {'BrgyHall', 'AdU'}, {'Cafeteria', 'AdU'}, {'Pamilihan', 'BrgyHall'}, {'CityHall', 'BrgyHall'}, {'CityHall', 'Pamilihan'}, {'Park', 'TrainStation'}, {'TrainStation', 'AdU'}]\n"
          ]
        }
      ]
    }
  ]
}