{
  "nbformat": 4,
  "nbformat_minor": 0,
  "metadata": {
    "colab": {
      "name": "Lab 2 Challenge",
      "provenance": [],
      "collapsed_sections": [],
      "authorship_tag": "ABX9TyPyjP6AlCHu/o/liZu9y0I6",
      "include_colab_link": true
    },
    "kernelspec": {
      "name": "python3",
      "display_name": "Python 3"
    },
    "language_info": {
      "name": "python"
    }
  },
  "cells": [
    {
      "cell_type": "markdown",
      "metadata": {
        "id": "view-in-github",
        "colab_type": "text"
      },
      "source": [
        "<a href=\"https://colab.research.google.com/github/Yaniii2021/DSAL/blob/main/Lab_2_Challenge.ipynb\" target=\"_parent\"><img src=\"https://colab.research.google.com/assets/colab-badge.svg\" alt=\"Open In Colab\"/></a>"
      ]
    },
    {
      "cell_type": "markdown",
      "metadata": {
        "id": "FCtLpar6dArx"
      },
      "source": [
        "ETO MATINO\n"
      ]
    },
    {
      "cell_type": "code",
      "metadata": {
        "colab": {
          "base_uri": "https://localhost:8080/"
        },
        "id": "nh5GgEuWxJdp",
        "outputId": "d596026d-c393-4331-9874-9cd17a2ba31e"
      },
      "source": [
        "#Lab2_1\n",
        "\n",
        "print(\"Please input scores of Lab Activity 1 to 10. \")\n",
        "print(\"Score of lab Activity 1 =\", end=\" \")\n",
        "lab1 = int(input())\n",
        "print(\"Score of lab Activity 2 =\", end=\" \")\n",
        "lab2 = int(input())\n",
        "print(\"Score of lab Activity 3 =\", end=\" \")\n",
        "lab3 = int(input())\n",
        "print(\"Score of lab Activity 4 =\", end=\" \")\n",
        "lab4 = int(input())\n",
        "print(\"Score of lab Activity 5 =\", end=\" \")\n",
        "lab5 = int(input())\n",
        "print(\"Score of lab Activity 6 =\", end=\" \")\n",
        "lab6 = int(input())\n",
        "print(\"Score of lab Activity 7 =\", end=\" \")\n",
        "lab7 = int(input())\n",
        "print(\"Score of lab Activity 8 =\", end=\" \")\n",
        "lab8 = int(input())\n",
        "print(\"Score of lab Activity 9 =\", end=\" \")\n",
        "lab9 = int(input())\n",
        "print(\"Score of lab Activity 10 =\", end=\" \")\n",
        "lab10 = int(input())\n",
        "\n",
        "\n",
        "#------------------------------------------------------\n",
        "\n",
        "#make a list of all the input\n",
        "list_of_scores = [lab1, lab2, lab3, lab4, lab5, lab6, lab7, lab8, lab9,lab10]\n",
        "print(f'Default: {list_of_scores}')\n",
        "#######list_of_scores.sort()\n",
        "#######print(f'Correct: {list_of_scores}')\n",
        "\n",
        "#------------------------------------------------------\n",
        "\n",
        "class lab_scores:\n",
        "  \n",
        "  def __init__(self):\n",
        "    print('New object')\n",
        "    print(' ')\n",
        "  \n",
        "  def sortScores(self,take_scores):\n",
        "    for current in range(len(take_scores)):\n",
        "      for next in range(len(take_scores)-1):\n",
        "        if take_scores[current] > take_scores[next + 1]:\n",
        "          take_scores[current], take_scores[next + 1] = take_scores[next + 1], take_scores[current]\n",
        "    final = take_scores\n",
        "    print(final)\n",
        "###baliktad parin tfffff\n",
        "\n",
        "scores = lab_scores()\n",
        "scores.sortScores(list_of_scores)\n",
        "\n",
        "\n",
        "\n",
        "\n",
        "\n"
      ],
      "execution_count": null,
      "outputs": [
        {
          "output_type": "stream",
          "name": "stdout",
          "text": [
            "Please input scores of Lab Activity 1 to 10. \n",
            "Score of lab Activity 1 = 99\n",
            "Score of lab Activity 2 = 88\n",
            "Score of lab Activity 3 = 77\n",
            "Score of lab Activity 4 = 66\n",
            "Score of lab Activity 5 = 55\n",
            "Score of lab Activity 6 = 44\n",
            "Score of lab Activity 7 = 33\n",
            "Score of lab Activity 8 = 22\n",
            "Score of lab Activity 9 = 11\n",
            "Score of lab Activity 10 = 1\n",
            "Default: [99, 88, 77, 66, 55, 44, 33, 22, 11, 1]\n",
            "New object\n",
            " \n",
            "[1, 99, 88, 77, 66, 55, 44, 33, 22, 11]\n"
          ]
        }
      ]
    },
    {
      "cell_type": "markdown",
      "metadata": {
        "id": "GlA725QcdIuA"
      },
      "source": [
        "PANG TEST LANG\n"
      ]
    },
    {
      "cell_type": "code",
      "metadata": {
        "colab": {
          "base_uri": "https://localhost:8080/"
        },
        "id": "5odzhVP0OHtj",
        "outputId": "527d0fc8-a460-476f-d2b4-f3d0d60213cd"
      },
      "source": [
        "#Lab2_1\n",
        "\n",
        "print(\"Please input scores of Lab Activity 1 to 10. \")\n",
        "print(\"Score of lab Activity 1 =\", end=\" \")\n",
        "lab1 = int(input())\n",
        "print(\"Score of lab Activity 2 =\", end=\" \")\n",
        "lab2 = int(input())\n",
        "print(\"Score of lab Activity 3 =\", end=\" \")\n",
        "lab3 = int(input())\n",
        "print(\"Score of lab Activity 4 =\", end=\" \")\n",
        "lab4 = int(input())\n",
        "print(\"Score of lab Activity 5 =\", end=\" \")\n",
        "lab5 = int(input())\n",
        "print(\"Score of lab Activity 6 =\", end=\" \")\n",
        "lab6 = int(input())\n",
        "print(\"Score of lab Activity 7 =\", end=\" \")\n",
        "lab7 = int(input())\n",
        "print(\"Score of lab Activity 8 =\", end=\" \")\n",
        "lab8 = int(input())\n",
        "print(\"Score of lab Activity 9 =\", end=\" \")\n",
        "lab9 = int(input())\n",
        "print(\"Score of lab Activity 10 =\", end=\" \")\n",
        "lab10 = int(input())\n",
        "\n",
        "\n",
        "\n",
        "#------------------------------------------------------\n",
        "\n",
        "#make a list of all the input\n",
        "list_of_scores = [lab1, lab2, lab3, lab4, lab5]\n",
        "print(f'Default: {list_of_scores}')\n",
        "#list_of_scores.sort()\n",
        "#print(f'Correct: {list_of_scores}')\n",
        "\n",
        "#------------------------------------------------------\n",
        "\n",
        "class lab_scores:\n",
        "  \n",
        "  def __init__(self):\n",
        "    print(' ')\n",
        "    print('New object')\n",
        "    print(' ')\n",
        "  \n",
        "  def sortScores(self,take_scores):\n",
        "    sorted = [] \n",
        "    for current in range(len(take_scores)):\n",
        "      print(current)\n",
        "scores = lab_scores()\n",
        "scores.sortScores(list_of_scores)\n",
        "\n",
        "\n",
        "\n",
        "\n",
        "\n"
      ],
      "execution_count": null,
      "outputs": [
        {
          "output_type": "stream",
          "name": "stdout",
          "text": [
            "Please input scores of Lab Activity 1 to 10. \n",
            "Score of lab Activity 1 = 10\n",
            "Score of lab Activity 2 = 9\n",
            "Score of lab Activity 3 = 8\n",
            "Score of lab Activity 4 = 7\n",
            "Score of lab Activity 5 = 6\n",
            "Score of lab Activity 6 = 5\n",
            "Score of lab Activity 7 = 4\n",
            "Score of lab Activity 8 = 3\n",
            "Score of lab Activity 9 = 2\n",
            "Score of lab Activity 10 = 1\n",
            "Default: [10, 9, 8, 7, 6]\n",
            " \n",
            "New object\n",
            " \n",
            "0\n",
            "1\n",
            "2\n",
            "3\n",
            "4\n"
          ]
        }
      ]
    },
    {
      "cell_type": "code",
      "metadata": {
        "colab": {
          "base_uri": "https://localhost:8080/",
          "height": 527
        },
        "id": "Ls3XxkKxglZ_",
        "outputId": "a01d3280-efff-433a-d1a1-4514ce8c6494"
      },
      "source": [
        "#Lab2_1\n",
        "\n",
        "\n",
        "#------------------------------------------------------\n",
        "\n",
        "class lab_scores:\n",
        "  \n",
        "  def __init__(self):\n",
        "    print('New object')\n",
        "    print(' ')\n",
        "    print(\"Please input scores of Lab Activity 1 to 10. \")\n",
        "    print(\"Score of lab Activity 1 =\", end=\" \")\n",
        "    lab1 = int(input())\n",
        "    print(\"Score of lab Activity 2 =\", end=\" \")\n",
        "    lab2 = int(input())\n",
        "    print(\"Score of lab Activity 3 =\", end=\" \")\n",
        "    lab3 = int(input())\n",
        "    print(\"Score of lab Activity 4 =\", end=\" \")\n",
        "    lab4 = int(input())\n",
        "    print(\"Score of lab Activity 5 =\", end=\" \")\n",
        "    lab5 = int(input())\n",
        "\n",
        "    #make a list of all the input\n",
        "    list_of_scores = [lab1, lab2, lab3, lab4, lab5]\n",
        "    print(f'Default: {list_of_scores}')\n",
        "    #list_of_scores.sort()\n",
        "    #print(f'Correct: {list_of_scores}')\n",
        "    self.sortScores(list_of_scores)\n",
        "  \n",
        "\n",
        "\n",
        "  def sortScores(self,take_scores):\n",
        "    while take_scores != take_scores.sort():\n",
        "      for current in range(len(take_scores)):\n",
        "        for next in range(len(take_scores)-1):\n",
        "          if take_scores[current] > take_scores[next + 1]:\n",
        "            take_scores[next + 1], take_scores[current] = take_scores[current], take_scores[next + 1]\n",
        "    \n",
        "    print(take_scores)\n",
        "###baliktad parin tfffff\n",
        "\n",
        "scores = lab_scores()\n",
        "\n",
        "\n",
        "\n",
        "\n",
        "\n",
        "\n"
      ],
      "execution_count": null,
      "outputs": [
        {
          "output_type": "stream",
          "name": "stdout",
          "text": [
            "New object\n",
            " \n",
            "Please input scores of Lab Activity 1 to 10. \n",
            "Score of lab Activity 1 = 10\n",
            "Score of lab Activity 2 = 9\n",
            "Score of lab Activity 3 = 8\n",
            "Score of lab Activity 4 = 7\n",
            "Score of lab Activity 5 = 6\n",
            "Default: [10, 9, 8, 7, 6]\n"
          ]
        },
        {
          "output_type": "error",
          "ename": "KeyboardInterrupt",
          "evalue": "ignored",
          "traceback": [
            "\u001b[0;31m---------------------------------------------------------------------------\u001b[0m",
            "\u001b[0;31mKeyboardInterrupt\u001b[0m                         Traceback (most recent call last)",
            "\u001b[0;32m<ipython-input-50-9f8d7440133e>\u001b[0m in \u001b[0;36m<module>\u001b[0;34m()\u001b[0m\n\u001b[1;32m     40\u001b[0m \u001b[0;31m###baliktad parin tfffff\u001b[0m\u001b[0;34m\u001b[0m\u001b[0;34m\u001b[0m\u001b[0;34m\u001b[0m\u001b[0m\n\u001b[1;32m     41\u001b[0m \u001b[0;34m\u001b[0m\u001b[0m\n\u001b[0;32m---> 42\u001b[0;31m \u001b[0mscores\u001b[0m \u001b[0;34m=\u001b[0m \u001b[0mlab_scores\u001b[0m\u001b[0;34m(\u001b[0m\u001b[0;34m)\u001b[0m\u001b[0;34m\u001b[0m\u001b[0;34m\u001b[0m\u001b[0m\n\u001b[0m\u001b[1;32m     43\u001b[0m \u001b[0;34m\u001b[0m\u001b[0m\n\u001b[1;32m     44\u001b[0m \u001b[0;34m\u001b[0m\u001b[0m\n",
            "\u001b[0;32m<ipython-input-50-9f8d7440133e>\u001b[0m in \u001b[0;36m__init__\u001b[0;34m(self)\u001b[0m\n\u001b[1;32m     26\u001b[0m     \u001b[0;31m#list_of_scores.sort()\u001b[0m\u001b[0;34m\u001b[0m\u001b[0;34m\u001b[0m\u001b[0;34m\u001b[0m\u001b[0m\n\u001b[1;32m     27\u001b[0m     \u001b[0;31m#print(f'Correct: {list_of_scores}')\u001b[0m\u001b[0;34m\u001b[0m\u001b[0;34m\u001b[0m\u001b[0;34m\u001b[0m\u001b[0m\n\u001b[0;32m---> 28\u001b[0;31m     \u001b[0mself\u001b[0m\u001b[0;34m.\u001b[0m\u001b[0msortScores\u001b[0m\u001b[0;34m(\u001b[0m\u001b[0mlist_of_scores\u001b[0m\u001b[0;34m)\u001b[0m\u001b[0;34m\u001b[0m\u001b[0;34m\u001b[0m\u001b[0m\n\u001b[0m\u001b[1;32m     29\u001b[0m \u001b[0;34m\u001b[0m\u001b[0m\n\u001b[1;32m     30\u001b[0m \u001b[0;34m\u001b[0m\u001b[0m\n",
            "\u001b[0;32m<ipython-input-50-9f8d7440133e>\u001b[0m in \u001b[0;36msortScores\u001b[0;34m(self, take_scores)\u001b[0m\n\u001b[1;32m     35\u001b[0m         \u001b[0;32mfor\u001b[0m \u001b[0mnext\u001b[0m \u001b[0;32min\u001b[0m \u001b[0mrange\u001b[0m\u001b[0;34m(\u001b[0m\u001b[0mlen\u001b[0m\u001b[0;34m(\u001b[0m\u001b[0mtake_scores\u001b[0m\u001b[0;34m)\u001b[0m\u001b[0;34m-\u001b[0m\u001b[0;36m1\u001b[0m\u001b[0;34m)\u001b[0m\u001b[0;34m:\u001b[0m\u001b[0;34m\u001b[0m\u001b[0;34m\u001b[0m\u001b[0m\n\u001b[1;32m     36\u001b[0m           \u001b[0;32mif\u001b[0m \u001b[0mtake_scores\u001b[0m\u001b[0;34m[\u001b[0m\u001b[0mcurrent\u001b[0m\u001b[0;34m]\u001b[0m \u001b[0;34m>\u001b[0m \u001b[0mtake_scores\u001b[0m\u001b[0;34m[\u001b[0m\u001b[0mnext\u001b[0m \u001b[0;34m+\u001b[0m \u001b[0;36m1\u001b[0m\u001b[0;34m]\u001b[0m\u001b[0;34m:\u001b[0m\u001b[0;34m\u001b[0m\u001b[0;34m\u001b[0m\u001b[0m\n\u001b[0;32m---> 37\u001b[0;31m             \u001b[0mtake_scores\u001b[0m\u001b[0;34m[\u001b[0m\u001b[0mnext\u001b[0m \u001b[0;34m+\u001b[0m \u001b[0;36m1\u001b[0m\u001b[0;34m]\u001b[0m\u001b[0;34m,\u001b[0m \u001b[0mtake_scores\u001b[0m\u001b[0;34m[\u001b[0m\u001b[0mcurrent\u001b[0m\u001b[0;34m]\u001b[0m \u001b[0;34m=\u001b[0m \u001b[0mtake_scores\u001b[0m\u001b[0;34m[\u001b[0m\u001b[0mcurrent\u001b[0m\u001b[0;34m]\u001b[0m\u001b[0;34m,\u001b[0m \u001b[0mtake_scores\u001b[0m\u001b[0;34m[\u001b[0m\u001b[0mnext\u001b[0m \u001b[0;34m+\u001b[0m \u001b[0;36m1\u001b[0m\u001b[0;34m]\u001b[0m\u001b[0;34m\u001b[0m\u001b[0;34m\u001b[0m\u001b[0m\n\u001b[0m\u001b[1;32m     38\u001b[0m \u001b[0;34m\u001b[0m\u001b[0m\n\u001b[1;32m     39\u001b[0m     \u001b[0mprint\u001b[0m\u001b[0;34m(\u001b[0m\u001b[0mtake_scores\u001b[0m\u001b[0;34m)\u001b[0m\u001b[0;34m\u001b[0m\u001b[0;34m\u001b[0m\u001b[0m\n",
            "\u001b[0;31mKeyboardInterrupt\u001b[0m: "
          ]
        }
      ]
    },
    {
      "cell_type": "markdown",
      "metadata": {
        "id": "dG4xQ9nBrMkK"
      },
      "source": [
        "##AAAAAAAAAAAAAAAAAAAAAAAAAAAAA GOOOOOOOOOOOODS\n"
      ]
    },
    {
      "cell_type": "code",
      "metadata": {
        "id": "LU9vu8YjkMPo",
        "colab": {
          "base_uri": "https://localhost:8080/"
        },
        "outputId": "405e0146-f79b-47d3-b2d5-04210259a0a2"
      },
      "source": [
        "#Lab2_1\n",
        "#------------------------------------------------------\n",
        "class lab_scores:\n",
        "  \n",
        "  def __init__(self):\n",
        "    print('A new object has been instantiated')\n",
        "    print(' ')\n",
        "    print(\"Please input scores of Lab Activity 1 to 10. \")\n",
        "    print(\"Score of lab Activity 1 =\", end=\" \")\n",
        "    lab1 = int(input())\n",
        "    print(\"Score of lab Activity 2 =\", end=\" \")\n",
        "    lab2 = int(input())\n",
        "    print(\"Score of lab Activity 3 =\", end=\" \")\n",
        "    lab3 = int(input())\n",
        "    print(\"Score of lab Activity 4 =\", end=\" \")\n",
        "    lab4 = int(input())\n",
        "    print(\"Score of lab Activity 5 =\", end=\" \")\n",
        "    lab5 = int(input())\n",
        "    print(\"Score of lab Activity 6 =\", end=\" \")\n",
        "    lab6 = int(input())\n",
        "    print(\"Score of lab Activity 7 =\", end=\" \")\n",
        "    lab7 = int(input())\n",
        "    print(\"Score of lab Activity 8 =\", end=\" \")\n",
        "    lab8 = int(input())\n",
        "    print(\"Score of lab Activity 9 =\", end=\" \")\n",
        "    lab9 = int(input())\n",
        "    print(\"Score of lab Activity 10 =\", end=\" \")\n",
        "    lab10 = int(input())\n",
        "    print(' ')\n",
        "\n",
        "\n",
        "    #make a list of all the input\n",
        "    list_of_scores = [lab1, lab2, lab3, lab4, lab5, lab6, lab7, lab8, lab9, lab10]\n",
        "    print(f'Default: {list_of_scores}')\n",
        "    #compute for the average\n",
        "    averageScore = (lab1 + lab2 + lab3 + lab4 + lab5 + lab6 + lab7 + lab8 + lab9 + lab10) / 10\n",
        "    \n",
        "\n",
        "    #call the sortScores method and pass  the list to it\n",
        "    self.sortScores(list_of_scores,averageScore)\n",
        "  \n",
        "\n",
        "\n",
        "  def sortScores(self,take_scores,average):\n",
        "    current = 0 #declare starting position\n",
        "    for current in range(current, len(take_scores)):\n",
        "      for point in range(current + 1, len(take_scores)):\n",
        "        if take_scores[current] > take_scores[point]:\n",
        "          take_scores[current], take_scores[point] = take_scores[point], take_scores[current]\n",
        "    \n",
        "    \n",
        "    print(f'Sorted: {take_scores}')\n",
        "    print(f'Prelim Grade is: {average}')\n",
        "\n",
        "    #GOOOOOOOOOOOOODDDDDSSSSSS\n",
        "\n",
        "#------------------------------------------------------\n",
        "#instantiate\n",
        "scores = lab_scores()\n",
        "\n",
        "\n",
        "\n",
        "\n",
        "\n",
        "\n"
      ],
      "execution_count": null,
      "outputs": [
        {
          "output_type": "stream",
          "name": "stdout",
          "text": [
            "A new object has been instantiated\n",
            " \n",
            "Please input scores of Lab Activity 1 to 10. \n",
            "Score of lab Activity 1 = 10\n",
            "Score of lab Activity 2 = 34\n",
            "Score of lab Activity 3 = 45\n",
            "Score of lab Activity 4 = 23\n",
            "Score of lab Activity 5 = 12\n",
            "Score of lab Activity 6 = 56\n",
            "Score of lab Activity 7 = 76\n",
            "Score of lab Activity 8 = 87\n",
            "Score of lab Activity 9 = 98\n",
            "Score of lab Activity 10 = 45\n",
            " \n",
            "Default: [10, 34, 45, 23, 12, 56, 76, 87, 98, 45]\n",
            "10\n",
            "Sorted: [10, 12, 23, 34, 45, 45, 56, 76, 87, 98]\n",
            "Prelim Grade is: 48.6\n"
          ]
        }
      ]
    }
  ]
}