{
  "nbformat": 4,
  "nbformat_minor": 0,
  "metadata": {
    "colab": {
      "name": "LAB 6 CHALLENGE FINAL.ipynb",
      "provenance": [],
      "collapsed_sections": [],
      "authorship_tag": "ABX9TyP6EmkLcTvLdCe7mi4F0QTY",
      "include_colab_link": true
    },
    "kernelspec": {
      "name": "python3",
      "display_name": "Python 3"
    },
    "language_info": {
      "name": "python"
    }
  },
  "cells": [
    {
      "cell_type": "markdown",
      "metadata": {
        "id": "view-in-github",
        "colab_type": "text"
      },
      "source": [
        "<a href=\"https://colab.research.google.com/github/Yaniii2021/DSAL/blob/main/LAB_6_CHALLENGE_FINAL.ipynb\" target=\"_parent\"><img src=\"https://colab.research.google.com/assets/colab-badge.svg\" alt=\"Open In Colab\"/></a>"
      ]
    },
    {
      "cell_type": "code",
      "metadata": {
        "id": "c5b7C9Rt-oGA"
      },
      "source": [
        "import heapq\n",
        "\n",
        "\n",
        "class MaxHeap():\n",
        "    def __init__(self):\n",
        "        self.heapheap = []\n",
        "\n",
        "    def push(self, uservalue):\n",
        "        heapq.heappush(self.heapheap, uservalue * -1)\n",
        "        heapq.heapify(self.heapheap)\n",
        "        print('The max heap contains: ')\n",
        "        for element in self.heapheap:\n",
        "            print(-1 * element, end = ' ')\n",
        "\n",
        "    def pop(self):\n",
        "        print(f'You popped {-1 * heapq.heappop(self.heapheap)}')\n",
        "        heapq.heapify(self.heapheap)\n",
        "        print(f'Max Heap contains: ')\n",
        "        for element in self.heapheap:\n",
        "            print(-1 * element, end = ' ')\n",
        "\n",
        "    def peek(self):\n",
        "        print(f'The max value or root is {-1 * self.heapheap[0]}')\n",
        "\n",
        "\n",
        "\n",
        "maxheap = MaxHeap()\n",
        "\n",
        "\n",
        "def wattodo():\n",
        "    print('What do you want to want to do with the max heap?')\n",
        "    print('''\n",
        "        Press 1 - Insert a value\n",
        "        Press 2 - Delete max value\n",
        "        Press 3 - Peek the max value\n",
        "        ''')\n",
        "    move = int(input('Press a number: '))\n",
        "    if move == 1:\n",
        "        stay = True\n",
        "        while stay:\n",
        "            value = int(input('Please insert a value: '))\n",
        "            maxheap.push(value)\n",
        "\n",
        "            more = input('\\nDo you want to insert another one? [y/n] ')\n",
        "            if more.lower() == 'n':\n",
        "                stay = False\n",
        "    elif move == 2:\n",
        "        maxheap.pop()\n",
        "    else:\n",
        "        maxheap.peek()\n",
        "\n",
        "\n",
        "def main():\n",
        "\n",
        "    stay = True\n",
        "    while stay:\n",
        "        wattodo()\n",
        "        answer = input('\\nDo you want to interact with the heap again? [y/n] ')\n",
        "        if answer.lower() == 'n':\n",
        "            stay = False\n",
        "\n",
        "\n",
        "main()\n",
        "\n",
        "\n",
        "\n"
      ],
      "execution_count": null,
      "outputs": []
    }
  ]
}