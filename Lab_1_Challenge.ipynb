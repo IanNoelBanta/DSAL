{
  "nbformat": 4,
  "nbformat_minor": 0,
  "metadata": {
    "colab": {
      "name": "Lab 1-Challenge.ipynb",
      "provenance": [],
      "collapsed_sections": [],
      "authorship_tag": "ABX9TyNagHgYHPKF2eq+jIgJQkYW",
      "include_colab_link": true
    },
    "kernelspec": {
      "name": "python3",
      "display_name": "Python 3"
    },
    "language_info": {
      "name": "python"
    }
  },
  "cells": [
    {
      "cell_type": "markdown",
      "metadata": {
        "id": "view-in-github",
        "colab_type": "text"
      },
      "source": [
        "<a href=\"https://colab.research.google.com/github/Yaniii2021/DSAL/blob/main/Lab_1_Challenge.ipynb\" target=\"_parent\"><img src=\"https://colab.research.google.com/assets/colab-badge.svg\" alt=\"Open In Colab\"/></a>"
      ]
    },
    {
      "cell_type": "markdown",
      "metadata": {
        "id": "lVoZ-u9FaA_a"
      },
      "source": [
        "#Class"
      ]
    },
    {
      "cell_type": "code",
      "metadata": {
        "colab": {
          "base_uri": "https://localhost:8080/"
        },
        "id": "0jYMMJp4Z4GY",
        "outputId": "d482ff80-9822-4dbc-ea34-2da829eebac6"
      },
      "source": [
        "class Food:\n",
        "\n",
        "  #constructor\n",
        "  def __init__(self):\n",
        "    print('A new food has been cooked.')\n",
        "    self.ingredients = 'No ingredients yet.'\n",
        "    self.price = 0\n",
        "\n",
        "  #methods\n",
        "  def getDetails(self):\n",
        "    print(f'''\n",
        "Ingredients: {self.ingredients}\n",
        "Price: {self.price}\n",
        "    ''')\n",
        "  def setDetails(self):\n",
        "    self.ingredients = input('Please input the ingredients for your food: ')\n",
        "    self.price = input('Please input the price: ')\n",
        "    print(' ')\n",
        "\n",
        "\n",
        "\n",
        "\n",
        "\n",
        "\n",
        "#instantiate\n",
        "Menudo = Food()\n",
        "Menudo.getDetails()\n",
        "Menudo.setDetails()\n",
        "Menudo.getDetails()\n",
        "\n",
        "Adobo = Food()\n",
        "Adobo.getDetails()\n",
        "Adobo.setDetails()\n",
        "Adobo.getDetails()\n",
        "\n",
        "\n",
        "\n",
        "  \n"
      ],
      "execution_count": null,
      "outputs": [
        {
          "output_type": "stream",
          "name": "stdout",
          "text": [
            "A new food has been cooked.\n",
            "\n",
            "Ingredients: No ingredients yet.\n",
            "Price: 0\n",
            "    \n",
            "Please input the ingredients for your food: asdfasd \n",
            "Please input the price: 34\n",
            " \n",
            "\n",
            "Ingredients: asdfasd \n",
            "Price: 34\n",
            "    \n",
            "A new food has been cooked.\n",
            "\n",
            "Ingredients: No ingredients yet.\n",
            "Price: 0\n",
            "    \n",
            "Please input the ingredients for your food: asdf\n",
            "Please input the price: cvb\n",
            " \n",
            "\n",
            "Ingredients: asdf\n",
            "Price: cvb\n",
            "    \n"
          ]
        }
      ]
    }
  ]
}