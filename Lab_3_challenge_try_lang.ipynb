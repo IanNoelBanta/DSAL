{
  "nbformat": 4,
  "nbformat_minor": 0,
  "metadata": {
    "colab": {
      "name": "Lab 3 challenge try lang.ipynb",
      "provenance": [],
      "collapsed_sections": [],
      "authorship_tag": "ABX9TyOlepy2AQVcFYPNdqWQWMim",
      "include_colab_link": true
    },
    "kernelspec": {
      "name": "python3",
      "display_name": "Python 3"
    },
    "language_info": {
      "name": "python"
    }
  },
  "cells": [
    {
      "cell_type": "markdown",
      "metadata": {
        "id": "view-in-github",
        "colab_type": "text"
      },
      "source": [
        "<a href=\"https://colab.research.google.com/github/Yaniii2021/DSAL/blob/main/Lab_3_challenge_try_lang.ipynb\" target=\"_parent\"><img src=\"https://colab.research.google.com/assets/colab-badge.svg\" alt=\"Open In Colab\"/></a>"
      ]
    },
    {
      "cell_type": "code",
      "metadata": {
        "colab": {
          "base_uri": "https://localhost:8080/"
        },
        "id": "TaXX_SqyhRCY",
        "outputId": "1a15c249-0fa0-4c16-a0db-a5c3580524a0"
      },
      "source": [
        "add_elements = True\n",
        "MegaBox = []\n",
        "\n",
        "print('Please input elements.\\n')\n",
        "\n",
        "while add_elements:\n",
        "  new_element = input(f'Input element number {len(MegaBox)+1}.')\n",
        "  MegaBox.append(new_element)\n",
        "  more = input('Add another element? [y/n] ')\n",
        "  if more == 'n':\n",
        "    add_elements = False\n",
        "\n",
        "print(f'The inputted elements are: {MegaBox}\\n')\n",
        "\n",
        "for element in MegaBox:\n",
        "  print(f'The data type of input {element} is {type(element)}.\\n')\n"
      ],
      "execution_count": 10,
      "outputs": [
        {
          "output_type": "stream",
          "name": "stdout",
          "text": [
            "Please input elements.\n",
            "\n",
            "Input element number 1.69\n",
            "Add another element? [y/n] y\n",
            "Input element number 2.tite\n",
            "Add another element? [y/n] y\n",
            "Input element number 3.129.123\n",
            "Add another element? [y/n] y\n",
            "Input element number 4.true\n",
            "Add another element? [y/n] n\n",
            "The inputted elements are: ['69', 'tite', '129.123', 'true']\n",
            "\n",
            "The data type of input 69 is <class 'str'>.\n",
            "\n",
            "The data type of input tite is <class 'str'>.\n",
            "\n",
            "The data type of input 129.123 is <class 'str'>.\n",
            "\n",
            "The data type of input true is <class 'str'>.\n",
            "\n"
          ]
        }
      ]
    },
    {
      "cell_type": "code",
      "metadata": {
        "id": "BUE5UikSiOxr"
      },
      "source": [
        "# This program computes for the average of unknown number of names.\n",
        "# This program only accepts data wit str data type.\n",
        "# Try to input some names multiples times and some names only once. Example : Ana, Anna, Ana, Bea, Lea, Bea, Cecil\n",
        "flagToStopLoop = True\n",
        "names = list()\n",
        "print(\"Please input names.\")\n",
        "while flagToStopLoop:  # can be replaced by while flagToStopLoop == True:\n",
        "    print(\"Input name number\", len(names)+1, \" = \", end=\"\")\n",
        "    inputName = input()\n",
        "    names.append(inputName)\n",
        "    answer = input(\"Add more name? [y/n] \")\n",
        "    if answer == \"y\":\n",
        "        flagToStopLoop = True\n",
        "    elif answer == \"n\":\n",
        "        flagToStopLoop = False\n",
        "\n",
        "\n",
        "print(\"Inputted names are: \", names)\n",
        "\n",
        "\n",
        "print(\"The data type of names is: \", type(names))\n",
        "print(\"The location of names is: \", id(names))\n",
        "print(\"The data type of id() is: \", type(id(names)))\n",
        "indexOfScores = 0\n",
        "for item in names:\n",
        "    print(\"The data type of input \", indexOfScores + 1, \" is: \", type(item))\n",
        "    print(\"The location of input \", indexOfScores + 1, \" is: \",  id(item))\n",
        "    indexOfScores += 1\n",
        "\n",
        "print(\"Inputted names are: \", names)\n",
        "distinctValues = list(set(names))\n",
        "print(distinctValues)\n",
        "\n",
        "for item in distinctValues:\n",
        "    print(\"The name \", item, \"appears \", names.count(item), \" time(s) on the list\")\n"
      ],
      "execution_count": null,
      "outputs": []
    }
  ]
}