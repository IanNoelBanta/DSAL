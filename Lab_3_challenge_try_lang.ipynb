{
  "nbformat": 4,
  "nbformat_minor": 0,
  "metadata": {
    "colab": {
      "name": "Lab 3 challenge try lang.ipynb",
      "provenance": [],
      "collapsed_sections": [],
      "authorship_tag": "ABX9TyNoerqv8jZPr4fY9JvKDVYM",
      "include_colab_link": true
    },
    "kernelspec": {
      "name": "python3",
      "display_name": "Python 3"
    },
    "language_info": {
      "name": "python"
    }
  },
  "cells": [
    {
      "cell_type": "markdown",
      "metadata": {
        "id": "view-in-github",
        "colab_type": "text"
      },
      "source": [
        "<a href=\"https://colab.research.google.com/github/Yaniii2021/DSAL/blob/main/Lab_3_challenge_try_lang.ipynb\" target=\"_parent\"><img src=\"https://colab.research.google.com/assets/colab-badge.svg\" alt=\"Open In Colab\"/></a>"
      ]
    },
    {
      "cell_type": "code",
      "metadata": {
        "colab": {
          "base_uri": "https://localhost:8080/"
        },
        "id": "eD9TKDwjzfMl",
        "outputId": "42daf60d-4216-4109-9269-593aa9c64744"
      },
      "source": [
        "class Lab3:\n",
        "\n",
        "  def __init__(self):\n",
        "    self.MegaBox = []\n",
        "    self.addElements = True\n",
        "  \n",
        "  def getElement(self):\n",
        "    while self.addElements:\n",
        "        new_element = input(f'Input element number {len(self.MegaBox)+1}: ')\n",
        "        data_type = input(f'What is its data type?: ')\n",
        "        if data_type.lower() == 'int':\n",
        "          self.MegaBox.append(int(new_element))\n",
        "        elif data_type.lower() == 'float':\n",
        "          self.MegaBox.append(float(new_element))\n",
        "        #yung bool sa display nalang\n",
        "        #elif data_type == 'char':\n",
        "          #self.MegaBox.append(char(new_element))\n",
        "        else:\n",
        "          self.MegaBox.append(new_element)\n",
        "        more = input('Add another element? [y/n] ')\n",
        "        if more == 'n':\n",
        "          self.addElements = False\n",
        "\n",
        "  def displayAll(self):\n",
        "    print(f'\\nMegaBox contains: {self.MegaBox}\\n')\n",
        "    for element in self.MegaBox:\n",
        "      #if element.upper() == 'TRUE' or 'FALSE':\n",
        "        #print(f\"The data type of input {element} is <class 'Booelan'>.\")\n",
        "      #else: \n",
        "        print(f'The data type of input {element} is {type(element)}.')\n",
        "\n",
        "\n",
        "user = Lab3()\n",
        "user.getElement()\n",
        "user.displayAll()"
      ],
      "execution_count": 19,
      "outputs": [
        {
          "output_type": "stream",
          "name": "stdout",
          "text": [
            "Input element number 1: 21\n",
            "What is its data type?: int\n",
            "Add another element? [y/n] y\n",
            "Input element number 2: 123.435\n",
            "What is its data type?: float\n",
            "Add another element? [y/n] y\n",
            "Input element number 3: wow\n",
            "What is its data type?: string\n",
            "Add another element? [y/n] y\n",
            "Input element number 4: True\n",
            "What is its data type?: bool\n",
            "Add another element? [y/n] n\n",
            "\n",
            "MegaBox contains: [21, 123.435, 'wow', 'True']\n",
            "\n",
            "The data type of input 21 is <class 'int'>.\n",
            "The data type of input 123.435 is <class 'float'>.\n",
            "The data type of input wow is <class 'str'>.\n",
            "The data type of input True is <class 'str'>.\n"
          ]
        }
      ]
    },
    {
      "cell_type": "code",
      "metadata": {
        "id": "TaXX_SqyhRCY"
      },
      "source": [
        "add_elements = True\n",
        "MegaBox = []\n",
        "\n",
        "print('Please input elements.\\n')\n",
        "\n",
        "while add_elements:\n",
        "  new_element = input(f'Input element number {len(MegaBox)+1}.')\n",
        "  data_type = input(f'What is its data type?: ')\n",
        "  if data_type == 'int':\n",
        "    MegaBox.append(int(new_element))\n",
        "  elif data_type == 'float':\n",
        "    MegaBox.append(float(new_element))\n",
        "  else:\n",
        "    MegaBox.append(new_element)\n",
        "  more = input('Add another element? [y/n] ')\n",
        "  if more == 'n':\n",
        "    add_elements = False\n",
        "\n",
        "print(f'The inputted elements are: {MegaBox}\\n')\n",
        "\n",
        "for element in MegaBox:\n",
        "  print(f'The data type of input {element} is {type(element)}.\\n')\n"
      ],
      "execution_count": null,
      "outputs": []
    },
    {
      "cell_type": "code",
      "metadata": {
        "id": "BUE5UikSiOxr"
      },
      "source": [
        "# This program computes for the average of unknown number of names.\n",
        "# This program only accepts data wit str data type.\n",
        "# Try to input some names multiples times and some names only once. Example : Ana, Anna, Ana, Bea, Lea, Bea, Cecil\n",
        "flagToStopLoop = True\n",
        "names = list()\n",
        "print(\"Please input names.\")\n",
        "while flagToStopLoop:  # can be replaced by while flagToStopLoop == True:\n",
        "    print(\"Input name number\", len(names)+1, \" = \", end=\"\")\n",
        "    inputName = input()\n",
        "    names.append(inputName)\n",
        "    answer = input(\"Add more name? [y/n] \")\n",
        "    if answer == \"y\":\n",
        "        flagToStopLoop = True\n",
        "    elif answer == \"n\":\n",
        "        flagToStopLoop = False\n",
        "\n",
        "\n",
        "print(\"Inputted names are: \", names)\n",
        "\n",
        "\n",
        "print(\"The data type of names is: \", type(names))\n",
        "print(\"The location of names is: \", id(names))\n",
        "print(\"The data type of id() is: \", type(id(names)))\n",
        "indexOfScores = 0\n",
        "for item in names:\n",
        "    print(\"The data type of input \", indexOfScores + 1, \" is: \", type(item))\n",
        "    print(\"The location of input \", indexOfScores + 1, \" is: \",  id(item))\n",
        "    indexOfScores += 1\n",
        "\n",
        "print(\"Inputted names are: \", names)\n",
        "distinctValues = list(set(names))\n",
        "print(distinctValues)\n",
        "\n",
        "for item in distinctValues:\n",
        "    print(\"The name \", item, \"appears \", names.count(item), \" time(s) on the list\")\n"
      ],
      "execution_count": null,
      "outputs": []
    }
  ]
}