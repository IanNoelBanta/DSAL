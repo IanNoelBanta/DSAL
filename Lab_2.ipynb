{
  "nbformat": 4,
  "nbformat_minor": 0,
  "metadata": {
    "colab": {
      "name": "Lab 2.ipynb",
      "provenance": [],
      "collapsed_sections": [],
      "authorship_tag": "ABX9TyPPa8OGg/K+p5/a1ZCiO4PK",
      "include_colab_link": true
    },
    "kernelspec": {
      "name": "python3",
      "display_name": "Python 3"
    },
    "language_info": {
      "name": "python"
    }
  },
  "cells": [
    {
      "cell_type": "markdown",
      "metadata": {
        "id": "view-in-github",
        "colab_type": "text"
      },
      "source": [
        "<a href=\"https://colab.research.google.com/github/Yaniii2021/DSAL/blob/main/Lab_2.ipynb\" target=\"_parent\"><img src=\"https://colab.research.google.com/assets/colab-badge.svg\" alt=\"Open In Colab\"/></a>"
      ]
    },
    {
      "cell_type": "code",
      "metadata": {
        "colab": {
          "base_uri": "https://localhost:8080/"
        },
        "id": "yhBYKlfratVg",
        "outputId": "8a4a4115-6f35-42a8-8dbe-9bec2a2893dc"
      },
      "source": [
        "# This program computes for the average of 10 lab activity scores.\n",
        "# This program only accepts data wit int data type.\n",
        "\n",
        "print(\"Please input scores of Lab Activity 1 to 10. \")\n",
        "print(\"Score of lab Activity 1 =\", end=\" \")\n",
        "lab1 = int(input())\n",
        "print(\"Score of lab Activity 2 =\", end=\" \")\n",
        "lab2 = int(input())\n",
        "print(\"Score of lab Activity 3 =\", end=\" \")\n",
        "lab3 = int(input())\n",
        "print(\"Score of lab Activity 4 =\", end=\" \")\n",
        "lab4 = int(input())\n",
        "print(\"Score of lab Activity 5 =\", end=\" \")\n",
        "lab5 = int(input())\n",
        "print(\"Score of lab Activity 6 =\", end=\" \")\n",
        "lab6 = int(input())\n",
        "print(\"Score of lab Activity 7 =\", end=\" \")\n",
        "lab7 = int(input())\n",
        "print(\"Score of lab Activity 8 =\", end=\" \")\n",
        "lab8 = int(input())\n",
        "print(\"Score of lab Activity 9 =\", end=\" \")\n",
        "lab9 = int(input())\n",
        "print(\"Score of lab Activity 10 =\", end=\" \")\n",
        "lab10 = int(input())\n",
        "averageScore = (lab1 + lab2 + lab3 + lab4 + lab5 + lab6 + lab7 + lab8 + lab9 + lab10) / 10\n",
        "print(\"Prelim Grade is: \" + str(averageScore))\n",
        "\n",
        "# How will you sort the scores from lowest to highest or vice-versa?\n",
        "# Although you can sort the 10 inputted scores here, it will be time-consuming for you to create an algorithm.\n",
        "# That's why it is better to use data structures. It helps you organize your data.\n"
      ],
      "execution_count": 1,
      "outputs": [
        {
          "output_type": "stream",
          "name": "stdout",
          "text": [
            "Please input scores of Lab Activity 1 to 10. \n",
            "Score of lab Activity 1 = 1\n",
            "Score of lab Activity 2 = 2\n",
            "Score of lab Activity 3 = 3\n",
            "Score of lab Activity 4 = 4\n",
            "Score of lab Activity 5 = 5\n",
            "Score of lab Activity 6 = 6\n",
            "Score of lab Activity 7 = 7\n",
            "Score of lab Activity 8 = 8\n",
            "Score of lab Activity 9 = 9\n",
            "Score of lab Activity 10 = 10\n",
            "Prelim Grade is: 5.5\n"
          ]
        }
      ]
    },
    {
      "cell_type": "code",
      "metadata": {
        "colab": {
          "base_uri": "https://localhost:8080/"
        },
        "id": "y4X7GNFyaynP",
        "outputId": "f4c76ac6-2673-4f8e-be4c-6a3d4b700f6e"
      },
      "source": [
        "# This program computes for the average of 10 lab activity scores.\n",
        "# This program only accepts data wit int data type.\n",
        "\n",
        "print(\"Please input scores of Lab Activity 1 to 10. \")\n",
        "totalScore = 0\n",
        "for labActivity in range(10):\n",
        "    print(\"Score of lab Activity {} =\".format(labActivity + 1), end=\" \")\n",
        "    labActivity = int(input())\n",
        "    totalScore += labActivity2\n",
        "    \n",
        "\n",
        "\n",
        "averageScore = totalScore / 10\n",
        "print(\"Prelim Grade is: \" + str(averageScore))\n",
        "# print(\"Prelim Grade is: \"+ str(totalScore / 10))\n"
      ],
      "execution_count": 3,
      "outputs": [
        {
          "output_type": "stream",
          "name": "stdout",
          "text": [
            "Please input scores of Lab Activity 1 to 10. \n",
            "Score of lab Activity 1 = 1\n",
            "Score of lab Activity 2 = 3\n",
            "Score of lab Activity 3 = 3\n",
            "Score of lab Activity 4 = 4\n",
            "Score of lab Activity 5 = 5\n",
            "Score of lab Activity 6 = 6\n",
            "Score of lab Activity 7 = 7\n",
            "Score of lab Activity 8 = 8\n",
            "Score of lab Activity 9 = 9\n",
            "Score of lab Activity 10 = 10\n",
            "Prelim Grade is: 5.6\n"
          ]
        }
      ]
    },
    {
      "cell_type": "code",
      "metadata": {
        "colab": {
          "base_uri": "https://localhost:8080/"
        },
        "id": "re8Rzm7ka1sF",
        "outputId": "efe1248b-8829-419c-bf9a-9a7eef919ed1"
      },
      "source": [
        "# This program computes for the average of 10 lab activity scores.\n",
        "# This program only accepts data wit int data type.\n",
        "\n",
        "import numpy as np\n",
        "\n",
        "labActivities = [0] * 10\n",
        "print(\"Please input scores of Lab Activity 1 to 10. \")\n",
        "for labActivity in range(10):\n",
        "    print(\"Score of lab Activity {} =\".format(labActivity + 1), end=\" \")\n",
        "    labActivities[labActivity] = int(input())\n",
        "\n",
        "print(\"Prelim Grade is: \" + str(np.average(labActivities)))\n",
        "\n",
        "# Data structures can be organized immediately with the help of existing methods.\n",
        "# Although for the said methods, you can create your own implementation.\n",
        "labActivities.sort()\n",
        "print(labActivities)\n",
        "\n",
        "labActivities.reverse()\n",
        "print(labActivities)"
      ],
      "execution_count": 4,
      "outputs": [
        {
          "output_type": "stream",
          "name": "stdout",
          "text": [
            "Please input scores of Lab Activity 1 to 10. \n",
            "Score of lab Activity 1 = 1\n",
            "Score of lab Activity 2 = 2\n",
            "Score of lab Activity 3 = 3\n",
            "Score of lab Activity 4 = 4\n",
            "Score of lab Activity 5 = 5\n",
            "Score of lab Activity 6 = 6\n",
            "Score of lab Activity 7 = 7\n",
            "Score of lab Activity 8 = 8\n",
            "Score of lab Activity 9 = 9\n",
            "Score of lab Activity 10 = 10\n",
            "Prelim Grade is: 5.5\n",
            "[1, 2, 3, 4, 5, 6, 7, 8, 9, 10]\n",
            "[10, 9, 8, 7, 6, 5, 4, 3, 2, 1]\n"
          ]
        }
      ]
    }
  ]
}