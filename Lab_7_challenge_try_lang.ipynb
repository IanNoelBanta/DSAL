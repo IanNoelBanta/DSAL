{
  "nbformat": 4,
  "nbformat_minor": 0,
  "metadata": {
    "colab": {
      "name": "Lab 7 challenge try lang.ipynb",
      "provenance": [],
      "collapsed_sections": [],
      "authorship_tag": "ABX9TyNQ6STEIiPEukSMWfKxhFgT",
      "include_colab_link": true
    },
    "kernelspec": {
      "name": "python3",
      "display_name": "Python 3"
    },
    "language_info": {
      "name": "python"
    }
  },
  "cells": [
    {
      "cell_type": "markdown",
      "metadata": {
        "id": "view-in-github",
        "colab_type": "text"
      },
      "source": [
        "<a href=\"https://colab.research.google.com/github/Yaniii2021/DSAL/blob/main/Lab_7_challenge_try_lang.ipynb\" target=\"_parent\"><img src=\"https://colab.research.google.com/assets/colab-badge.svg\" alt=\"Open In Colab\"/></a>"
      ]
    },
    {
      "cell_type": "code",
      "metadata": {
        "id": "uFqNlhAr90FG",
        "colab": {
          "base_uri": "https://localhost:8080/"
        },
        "outputId": "b54886f3-36b9-4be6-d763-320b63246fb1"
      },
      "source": [
        "# Modified from: https://www.tutorialspoint.com/python_data_structure/python_graphs.htm\n",
        "\n",
        "class Graph:\n",
        "    def __init__(self, gdict=None):\n",
        "        if gdict is None:\n",
        "            gdict = []\n",
        "        self.gdict = gdict\n",
        "\n",
        "    # Get the keys of the dictionary\n",
        "    def getVertices(self):\n",
        "        return list(self.gdict.keys())\n",
        "\n",
        "    def edges(self):\n",
        "        return self.findedges()\n",
        "\n",
        "    def findedges(self):\n",
        "        edgename = []\n",
        "        for vrtx in self.gdict:\n",
        "            for nxtvrtx in self.gdict[vrtx]:\n",
        "                if {nxtvrtx, vrtx} not in edgename:\n",
        "                    edgename.append({vrtx, nxtvrtx})\n",
        "        return edgename\n",
        "\n",
        "    # Add the vertex as a key\n",
        "    def addVertex(self, vrtx):\n",
        "        if vrtx not in self.gdict:\n",
        "            self.gdict[vrtx] = []\n",
        "\n",
        "    # Add the new edge\n",
        "\n",
        "    def AddEdge(self, edge):\n",
        "        edge = set(edge)\n",
        "        (vrtx1, vrtx2) = tuple(edge)\n",
        "        if vrtx1 in self.gdict:\n",
        "            self.gdict[vrtx1].append(vrtx2)\n",
        "        else:\n",
        "            self.gdict[vrtx1] = [vrtx2]\n",
        "\n",
        "    def displayNumberOfNeighbours(self, userinput):\n",
        "        print(len(self.gdict[userinput]))\n",
        "      \n",
        "\n",
        "\n",
        "\n",
        "# Create the dictionary with graph elements\n",
        "graph_elements = {\"AdU\" : [\"Park\",\"BrgyHall\",\"Cafeteria\"],\n",
        "          \"BrgyHall\" : [\"Pamilihan\", \"CityHall\", \"AdU\"],\n",
        "          \"CityHall\" : [\"Pamilihan\", \"BrgyHall\"],\n",
        "          \"Pamilihan\" : [\"CityHall\",\"BrgyHall\"],\n",
        "          \"Park\" : [\"AdU\"],\n",
        "          \"Cafeteria\" : [\"AdU\"]}\n",
        "\n",
        "g = Graph(graph_elements)\n",
        "\n",
        "\n",
        "print(g.getVertices())\n",
        "print(g.edges())\n",
        "g.addVertex(\"TrainStation\")\n",
        "print(g.getVertices())\n",
        "g.AddEdge({'TrainStation', 'Park'})\n",
        "g.AddEdge({'TrainStation', 'AdU'})\n",
        "print(g.edges())\n",
        "\n",
        "print()\n",
        "\n",
        "#diplay number of neighbours of a node/vertex\n",
        "g.displayNumberOfNeighbours('AdU')\n",
        "g.displayNumberOfNeighbours('BrgyHall')\n",
        "g.displayNumberOfNeighbours('CityHall')\n",
        "g.displayNumberOfNeighbours('Pamilihan')\n",
        "g.displayNumberOfNeighbours('Park')\n",
        "g.displayNumberOfNeighbours('Cafeteria')\n"
      ],
      "execution_count": 15,
      "outputs": [
        {
          "output_type": "stream",
          "name": "stdout",
          "text": [
            "['AdU', 'BrgyHall', 'CityHall', 'Pamilihan', 'Park', 'Cafeteria']\n",
            "[{'Park', 'AdU'}, {'BrgyHall', 'AdU'}, {'Cafeteria', 'AdU'}, {'BrgyHall', 'Pamilihan'}, {'BrgyHall', 'CityHall'}, {'Pamilihan', 'CityHall'}]\n",
            "['AdU', 'BrgyHall', 'CityHall', 'Pamilihan', 'Park', 'Cafeteria', 'TrainStation']\n",
            "[{'Park', 'AdU'}, {'BrgyHall', 'AdU'}, {'Cafeteria', 'AdU'}, {'BrgyHall', 'Pamilihan'}, {'BrgyHall', 'CityHall'}, {'Pamilihan', 'CityHall'}, {'TrainStation', 'Park'}, {'TrainStation', 'AdU'}]\n",
            "\n",
            "3\n",
            "3\n",
            "2\n",
            "2\n",
            "1\n",
            "1\n"
          ]
        }
      ]
    }
  ]
}