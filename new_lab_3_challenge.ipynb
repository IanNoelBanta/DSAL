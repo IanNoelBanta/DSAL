{
  "nbformat": 4,
  "nbformat_minor": 0,
  "metadata": {
    "colab": {
      "name": "new lab 3 challenge.ipynb",
      "provenance": [],
      "collapsed_sections": [],
      "authorship_tag": "ABX9TyNApwaR+L3HJq4ti2BIVctk",
      "include_colab_link": true
    },
    "kernelspec": {
      "name": "python3",
      "display_name": "Python 3"
    },
    "language_info": {
      "name": "python"
    }
  },
  "cells": [
    {
      "cell_type": "markdown",
      "metadata": {
        "id": "view-in-github",
        "colab_type": "text"
      },
      "source": [
        "<a href=\"https://colab.research.google.com/github/Yaniii2021/DSAL/blob/main/new_lab_3_challenge.ipynb\" target=\"_parent\"><img src=\"https://colab.research.google.com/assets/colab-badge.svg\" alt=\"Open In Colab\"/></a>"
      ]
    },
    {
      "cell_type": "code",
      "metadata": {
        "colab": {
          "base_uri": "https://localhost:8080/"
        },
        "id": "TwS3UWaEDjik",
        "outputId": "e6e3cabd-1f32-474b-93a4-59e072b34444"
      },
      "source": [
        "class Lab3:\n",
        "\n",
        "  def __init__(self):\n",
        "    self.MegaBox = []\n",
        "    self.addElements = True\n",
        "  \n",
        "  def getElement(self):\n",
        "    while self.addElements:\n",
        "        new_element = input(f'Input element number {len(self.MegaBox)+1}: ')\n",
        "        data_type = input(f'What is its data type?: ')\n",
        "        if data_type.lower() == 'int':\n",
        "          if len(new_element) > 1:\n",
        "            print(len(new_element))\n",
        "            input_int_array = [ int(x) for x in new_element.split()]  \n",
        "            self.MegaBox.append(input_int_array)\n",
        "          else:\n",
        "            self.MegaBox.append(int(new_element))\n",
        "        elif data_type.lower() == 'float':\n",
        "          self.MegaBox.append(float(new_element))\n",
        "        else:\n",
        "          self.MegaBox.append(new_element.split())\n",
        "        more = input('Add another element? [y/n] ')\n",
        "        if more == 'n':\n",
        "          self.addElements = False\n",
        "\n",
        "  def displayAll(self):\n",
        "    print(f'\\nMegaBox contains: {self.MegaBox}\\n')\n",
        "    for element in self.MegaBox:\n",
        "      #if element == 'true' or 'false':\n",
        "        #element = ' '\n",
        "        #print(f\"The data type of input {element} is {bool(element)}.\")\n",
        "      #else: \n",
        "      #di ko parin alam pano gagawin bool kapag string na true or false yung input\n",
        "      print(f'The data type of input {element} is {type(element)}.')\n",
        "\n",
        "\n",
        "user = Lab3()\n",
        "user.getElement()\n",
        "user.displayAll()"
      ],
      "execution_count": 28,
      "outputs": [
        {
          "output_type": "stream",
          "name": "stdout",
          "text": [
            "Input element number 1: 1 2 3 4 5 6 \n",
            "What is its data type?: int\n",
            "12\n",
            "Add another element? [y/n] y\n",
            "Input element number 2: 1 \n",
            "What is its data type?: int\n",
            "2\n",
            "Add another element? [y/n] n\n",
            "\n",
            "MegaBox contains: [[1, 2, 3, 4, 5, 6], [1]]\n",
            "\n",
            "The data type of input [1, 2, 3, 4, 5, 6] is <class 'list'>.\n",
            "The data type of input [1] is <class 'list'>.\n"
          ]
        }
      ]
    },
    {
      "cell_type": "code",
      "metadata": {
        "colab": {
          "base_uri": "https://localhost:8080/"
        },
        "id": "OKjEFTAI5Qjb",
        "outputId": "924b128d-ce4e-494e-dd8f-8249e080e412"
      },
      "source": [
        "class Lab3:\n",
        "\n",
        "  def __init__(self):\n",
        "    self.MegaBox = []\n",
        "    self.addElements = True\n",
        "  \n",
        "  def getElement(self):\n",
        "    while self.addElements:\n",
        "        new_element = input(f'Input element number {len(self.MegaBox)+1}: ')\n",
        "        data_type = input(f'What is its data type?: ')\n",
        "        if data_type.lower() == 'int':\n",
        "          self.MegaBox.append(int(new_element))\n",
        "        elif data_type.lower() == 'float':\n",
        "          self.MegaBox.append(float(new_element))\n",
        "        else:\n",
        "          self.MegaBox.append(new_element.split())\n",
        "        more = input('Add another element? [y/n] ')\n",
        "        if more == 'n':\n",
        "          self.addElements = False\n",
        "\n",
        "  def displayAll(self):\n",
        "    print(f'\\nMegaBox contains: {self.MegaBox}\\n')\n",
        "    for element in self.MegaBox:\n",
        "      #if element == 'true' or 'false':\n",
        "        #element = ' '\n",
        "        #print(f\"The data type of input {element} is {bool(element)}.\")\n",
        "      #else: \n",
        "      #di ko parin alam pano gagawin bool kapag string na true or false yung input\n",
        "      print(f'The data type of input {element} is {type(element)}.')\n",
        "\n",
        "\n",
        "user = Lab3()\n",
        "user.getElement()\n",
        "user.displayAll()"
      ],
      "execution_count": 16,
      "outputs": [
        {
          "output_type": "stream",
          "name": "stdout",
          "text": [
            "Input element number 1: 1\n",
            "What is its data type?: int\n",
            "Add another element? [y/n] y\n",
            "Input element number 2: 12.34\n",
            "What is its data type?: float\n",
            "Add another element? [y/n] y\n",
            "Input element number 3: w w w o w w w\n",
            "What is its data type?: string\n",
            "Add another element? [y/n] n\n",
            "\n",
            "MegaBox contains: [1, 12.34, ['w', 'w', 'w', 'o', 'w', 'w', 'w']]\n",
            "\n",
            "The data type of input 1 is <class 'int'>.\n",
            "The data type of input 12.34 is <class 'float'>.\n",
            "The data type of input ['w', 'w', 'w', 'o', 'w', 'w', 'w'] is <class 'list'>.\n"
          ]
        }
      ]
    },
    {
      "cell_type": "code",
      "metadata": {
        "colab": {
          "base_uri": "https://localhost:8080/"
        },
        "id": "G4_dSSHWCV9I",
        "outputId": "8ff74cba-e605-47b6-c96a-6f50451b6e29"
      },
      "source": [
        "class Lab3:\n",
        "\n",
        "  def __init__(self):\n",
        "    self.MegaBox = []\n",
        "    self.addElements = True\n",
        "  \n",
        "  def getElement(self):\n",
        "    while self.addElements:\n",
        "        new_element = input(f'Input element number {len(self.MegaBox)+1}: ')\n",
        "        self.MegaBox.append(new_element)\n",
        "        more = input('Add another element? [y/n] ')\n",
        "        if more == 'n':\n",
        "          self.addElements = False\n",
        "\n",
        "  def displayAll(self):\n",
        "    print(f'\\nMegaBox contains: {self.MegaBox}\\n')\n",
        "    for element in self.MegaBox:\n",
        "      #if element == 'true' or 'false':\n",
        "        #element = ' '\n",
        "        #print(f\"The data type of input {element} is {bool(element)}.\")\n",
        "      #else: \n",
        "      #di ko parin alam pano gagawin bool kapag string na true or false yung input\n",
        "      print(f'The data type of input {element} is {type(element)}.')\n",
        "\n",
        "\n",
        "user = Lab3()\n",
        "user.getElement()\n",
        "user.displayAll()"
      ],
      "execution_count": 18,
      "outputs": [
        {
          "output_type": "stream",
          "name": "stdout",
          "text": [
            "Input element number 1: 1\n",
            "Add another element? [y/n] n\n",
            "\n",
            "MegaBox contains: ['1']\n",
            "\n",
            "The data type of input 1 is <class 'str'>.\n"
          ]
        }
      ]
    }
  ]
}