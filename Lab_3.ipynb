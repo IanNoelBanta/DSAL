{
  "nbformat": 4,
  "nbformat_minor": 0,
  "metadata": {
    "colab": {
      "name": "Lab 3.ipynb",
      "provenance": [],
      "authorship_tag": "ABX9TyNdhkebF+Lkxw1XnGjfw0pu",
      "include_colab_link": true
    },
    "kernelspec": {
      "name": "python3",
      "display_name": "Python 3"
    },
    "language_info": {
      "name": "python"
    }
  },
  "cells": [
    {
      "cell_type": "markdown",
      "metadata": {
        "id": "view-in-github",
        "colab_type": "text"
      },
      "source": [
        "<a href=\"https://colab.research.google.com/github/Yaniii2021/DSAL/blob/main/Lab_3.ipynb\" target=\"_parent\"><img src=\"https://colab.research.google.com/assets/colab-badge.svg\" alt=\"Open In Colab\"/></a>"
      ]
    },
    {
      "cell_type": "code",
      "metadata": {
        "id": "kX729imUcCg5"
      },
      "source": [
        "# This program computes for the average of 3 lab activity scores.\n",
        "# This program only accepts data wit int data type.\n",
        "\n",
        "print(\"Please input scores of Lab Activity 1 to 3. \")\n",
        "print(\"Score of lab Activity 1 =\", end=\" \")\n",
        "lab1 = int(input())\n",
        "print(\"Score of lab Activity 2 =\", end=\" \")\n",
        "lab2 = int(input())\n",
        "print(\"Score of lab Activity 3 =\", end=\" \")\n",
        "lab3 = int(input())\n",
        "\n",
        "averageScore = (lab1 + lab2 + lab3) / 3\n",
        "print(\"Prelim Grade is: \" + str(averageScore))\n",
        "\n",
        "# Imagine you have more than 3 scores to compute. Will this kind of coding work?\n",
        "\n",
        "print(\"The data type of input 1 is: \", type(lab1))\n",
        "print(\"The data type of input 2 is: \", type(lab2))\n",
        "print(\"The data type of input 3 is: \", type(lab3))\n",
        "print(\"The location of input 1 is: \", id(lab1))\n",
        "print(\"The location of input 2 is: \", id(lab2))\n",
        "print(\"The location of input 3 is: \", id(lab3))\n"
      ],
      "execution_count": null,
      "outputs": []
    },
    {
      "cell_type": "code",
      "metadata": {
        "id": "Rz_cJBxLcHGJ"
      },
      "source": [
        "# This program computes for the average of unknown number of lab activity scores.\n",
        "# This program only accepts data wit int data type.\n",
        "\n",
        "flagToStopLoop = True\n",
        "scores = list()\n",
        "print(\"Please input scores of Lab Activities\")\n",
        "while flagToStopLoop:  # can be replaced by while flagToStopLoop == True:\n",
        "    print(\"Score of lab Activity \", len(scores)+1, \" = \", end=\"\")\n",
        "    inputScore = int(input())\n",
        "    scores.append(inputScore)\n",
        "    answer = input(\"Add more score? [y/n] \")\n",
        "    if answer == \"y\":\n",
        "        flagToStopLoop = True\n",
        "    elif answer == \"n\":\n",
        "        flagToStopLoop = False\n",
        "\n",
        "\n",
        "print(\"Inputted scores are: \", scores)\n",
        "totalScore = 0\n",
        "for item in scores:\n",
        "    totalScore += item\n",
        "\n",
        "average = totalScore / len(scores)\n",
        "print(\"Total score is: \", totalScore)\n",
        "print(\"Number of items is: \", len(scores))\n",
        "print(\"Average score is: \", average)\n",
        "\n",
        "print(\"The data type of scores is: \", type(scores))\n",
        "print(\"The location of scores is: \", id(scores))\n",
        "print(\"The data type of id() is: \", type(id(scores)))\n",
        "indexOfScores = 0\n",
        "for item in scores:\n",
        "    print(\"The data type of input \", indexOfScores + 1, \" is: \", type(item))\n",
        "    print(\"The location of input \", indexOfScores + 1, \" is: \",  id(item))\n",
        "    indexOfScores += 1\n",
        "\n"
      ],
      "execution_count": null,
      "outputs": []
    },
    {
      "cell_type": "code",
      "metadata": {
        "id": "lN8KcfnkcI2c"
      },
      "source": [
        "# This program computes for the average of unknown number of names.\n",
        "# This program only accepts data wit str data type.\n",
        "# Try to input some names multiples times and some names only once. Example : Ana, Anna, Ana, Bea, Lea, Bea, Cecil\n",
        "flagToStopLoop = True\n",
        "names = list()\n",
        "print(\"Please input names.\")\n",
        "while flagToStopLoop:  # can be replaced by while flagToStopLoop == True:\n",
        "    print(\"Input name number\", len(names)+1, \" = \", end=\"\")\n",
        "    inputName = input()\n",
        "    names.append(inputName)\n",
        "    answer = input(\"Add more name? [y/n] \")\n",
        "    if answer == \"y\":\n",
        "        flagToStopLoop = True\n",
        "    elif answer == \"n\":\n",
        "        flagToStopLoop = False\n",
        "\n",
        "\n",
        "print(\"Inputted names are: \", names)\n",
        "\n",
        "\n",
        "print(\"The data type of names is: \", type(names))\n",
        "print(\"The location of names is: \", id(names))\n",
        "print(\"The data type of id() is: \", type(id(names)))\n",
        "indexOfScores = 0\n",
        "for item in names:\n",
        "    print(\"The data type of input \", indexOfScores + 1, \" is: \", type(item))\n",
        "    print(\"The location of input \", indexOfScores + 1, \" is: \",  id(item))\n",
        "    indexOfScores += 1\n",
        "\n",
        "print(\"Inputted names are: \", names)\n",
        "distinctValues = list(set(names))\n",
        "print(distinctValues)\n",
        "\n",
        "for item in distinctValues:\n",
        "    print(\"The name \", item, \"appears \", names.count(item), \" time(s) on the list\")\n",
        "\n"
      ],
      "execution_count": null,
      "outputs": []
    }
  ]
}