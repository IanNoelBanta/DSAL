{
  "nbformat": 4,
  "nbformat_minor": 0,
  "metadata": {
    "colab": {
      "name": "Lab 5 challenge try lang.ipynb",
      "provenance": [],
      "collapsed_sections": [],
      "authorship_tag": "ABX9TyN6z5dz2iuaPrIOr8Sm2mg9",
      "include_colab_link": true
    },
    "kernelspec": {
      "name": "python3",
      "display_name": "Python 3"
    },
    "language_info": {
      "name": "python"
    }
  },
  "cells": [
    {
      "cell_type": "markdown",
      "metadata": {
        "id": "view-in-github",
        "colab_type": "text"
      },
      "source": [
        "<a href=\"https://colab.research.google.com/github/Yaniii2021/DSAL/blob/main/Lab_5_challenge_try_lang.ipynb\" target=\"_parent\"><img src=\"https://colab.research.google.com/assets/colab-badge.svg\" alt=\"Open In Colab\"/></a>"
      ]
    },
    {
      "cell_type": "markdown",
      "metadata": {
        "id": "YoWoNEJ28s8k"
      },
      "source": [
        "Create a new python file and name it Lab5_Challenge.py.\n",
        "Create a program that can allow a user to interact with a tree data structure by inserting new node, displaying the entire tree, deleting a node, and displaying a sub-tree.\n",
        "The tree data structure stated above is called AlphabeTree.\n",
        "The user can interact with AlphabeTree until they quit the program.\n"
      ]
    },
    {
      "cell_type": "code",
      "metadata": {
        "id": "dFdBN5fU8qPL"
      },
      "source": [
        ""
      ],
      "execution_count": null,
      "outputs": []
    }
  ]
}