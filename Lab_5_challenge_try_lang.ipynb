{
  "nbformat": 4,
  "nbformat_minor": 0,
  "metadata": {
    "colab": {
      "name": "Lab 5 challenge try lang.ipynb",
      "provenance": [],
      "collapsed_sections": [],
      "authorship_tag": "ABX9TyNsx9FrZbdRaS+gWS03iJ8r",
      "include_colab_link": true
    },
    "kernelspec": {
      "name": "python3",
      "display_name": "Python 3"
    },
    "language_info": {
      "name": "python"
    }
  },
  "cells": [
    {
      "cell_type": "markdown",
      "metadata": {
        "id": "view-in-github",
        "colab_type": "text"
      },
      "source": [
        "<a href=\"https://colab.research.google.com/github/Yaniii2021/DSAL/blob/main/Lab_5_challenge_try_lang.ipynb\" target=\"_parent\"><img src=\"https://colab.research.google.com/assets/colab-badge.svg\" alt=\"Open In Colab\"/></a>"
      ]
    },
    {
      "cell_type": "markdown",
      "metadata": {
        "id": "YoWoNEJ28s8k"
      },
      "source": [
        "Create a new python file and name it Lab5_Challenge.py.\n",
        "Create a program that can allow a user to interact with a tree data structure by inserting new node, displaying the entire tree, deleting a node, and displaying a sub-tree.\n",
        "The tree data structure stated above is called AlphabeTree.\n",
        "The user can interact with AlphabeTree until they quit the program.\n"
      ]
    },
    {
      "cell_type": "code",
      "metadata": {
        "id": "dFdBN5fU8qPL",
        "colab": {
          "base_uri": "https://localhost:8080/"
        },
        "outputId": "11e283f1-db31-4611-a2d0-fce4e9877d8b"
      },
      "source": [
        "class AlphabeTree:\n",
        "  def __init__(self,data):\n",
        "    self.data = data\n",
        "    self.parent = None\n",
        "    self.children = []\n",
        "\n",
        "  def level(self):\n",
        "    level = 0 \n",
        "    p = self.parent\n",
        "    while p:\n",
        "      level += 1\n",
        "      p = p.parent \n",
        "    \n",
        "    return level\n",
        "  \n",
        "  def add_child(self, child ):\n",
        "    child.parent = self\n",
        "    self.children.append(child)\n",
        "  \n",
        "  def display_tree(self):\n",
        "    spaces = ' ' * self.level()\n",
        "    prefix = spaces + \"|__\" if self.parent else ''\n",
        "    print(prefix + self.data)\n",
        "    if self.children:\n",
        "      for child in self.children:\n",
        "        child.display_tree()\n",
        "\n",
        "\n",
        "def plant_tree():\n",
        "  A = AlphabeTree('A')\n",
        "\n",
        "  Angel = AlphabeTree('Angel')\n",
        "\n",
        "  Ana = AlphabeTree('Ana')\n",
        "\n",
        "  B = AlphabeTree('B')\n",
        "\n",
        "  B.add_child(AlphabeTree('Boy'))\n",
        "  B.add_child(AlphabeTree('C'))\n",
        "\n",
        "  A.add_child(Angel)\n",
        "  A.add_child(Ana)\n",
        "  A.add_child(B)\n",
        "\n",
        "  A.display_tree()\n",
        "\n",
        "\n",
        "\n",
        "\n",
        "if __name__ == '__main__':\n",
        "  plant_tree()\n",
        "\n",
        "\n",
        "  \n"
      ],
      "execution_count": 20,
      "outputs": [
        {
          "output_type": "stream",
          "name": "stdout",
          "text": [
            "A\n",
            " |__Angel\n",
            " |__Ana\n",
            " |__B\n",
            "  |__Boy\n",
            "  |__C\n"
          ]
        }
      ]
    },
    {
      "cell_type": "code",
      "metadata": {
        "colab": {
          "base_uri": "https://localhost:8080/"
        },
        "id": "bSQBL7WdYfid",
        "outputId": "a1480a19-ccb4-4dfe-c69a-8b31f317b14e"
      },
      "source": [
        "class TreeNode:\n",
        "    def __init__(self, data):\n",
        "        self.data = data\n",
        "        self.children = []\n",
        "        self.parent = None\n",
        "\n",
        "    def get_level(self):\n",
        "        level = 0\n",
        "        p = self.parent\n",
        "        while p:\n",
        "            level += 1\n",
        "            p = p.parent\n",
        "\n",
        "        return level\n",
        "\n",
        "    def print_tree(self):\n",
        "        spaces = ' ' * self.get_level() * 3\n",
        "        prefix = spaces + \"|__\" if self.parent else \"\"\n",
        "        print(prefix + self.data)\n",
        "        if self.children:\n",
        "            for child in self.children:\n",
        "                child.print_tree()\n",
        "\n",
        "    def add_child(self, child):\n",
        "        child.parent = self\n",
        "        self.children.append(child)\n",
        "\n",
        "def build_product_tree():\n",
        "    root = TreeNode(\"Electronics\")\n",
        "\n",
        "    laptop = TreeNode(\"Laptop\")\n",
        "    laptop.add_child(TreeNode(\"Mac\"))\n",
        "    laptop.add_child(TreeNode(\"Surface\"))\n",
        "    laptop.add_child(TreeNode(\"Thinkpad\"))\n",
        "\n",
        "    cellphone = TreeNode(\"Cell Phone\")\n",
        "    cellphone.add_child(TreeNode(\"iPhone\"))\n",
        "    cellphone.add_child(TreeNode(\"Google Pixel\"))\n",
        "    cellphone.add_child(TreeNode(\"Vivo\"))\n",
        "\n",
        "    tv = TreeNode(\"TV\")\n",
        "    tv.add_child(TreeNode(\"Samsung\"))\n",
        "    tv.add_child(TreeNode(\"LG\"))\n",
        "\n",
        "    root.add_child(laptop)\n",
        "    root.add_child(cellphone)\n",
        "    root.add_child(tv)\n",
        "\n",
        "    root.print_tree()\n",
        "\n",
        "if __name__ == '__main__':\n",
        "    build_product_tree()"
      ],
      "execution_count": 2,
      "outputs": [
        {
          "output_type": "stream",
          "name": "stdout",
          "text": [
            "Electronics\n",
            "   |__Laptop\n",
            "      |__Mac\n",
            "      |__Surface\n",
            "      |__Thinkpad\n",
            "   |__Cell Phone\n",
            "      |__iPhone\n",
            "      |__Google Pixel\n",
            "      |__Vivo\n",
            "   |__TV\n",
            "      |__Samsung\n",
            "      |__LG\n"
          ]
        }
      ]
    }
  ]
}