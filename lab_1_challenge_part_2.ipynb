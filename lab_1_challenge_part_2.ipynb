{
  "nbformat": 4,
  "nbformat_minor": 0,
  "metadata": {
    "colab": {
      "name": "lab 1 challenge part 2.ipynb",
      "provenance": [],
      "collapsed_sections": [],
      "mount_file_id": "1AL0KbHEySVxk86iscCnM5bETyFBXDcj7",
      "authorship_tag": "ABX9TyPBACXxXjGbgOSTRAwYNWE2",
      "include_colab_link": true
    },
    "kernelspec": {
      "name": "python3",
      "display_name": "Python 3"
    },
    "language_info": {
      "name": "python"
    }
  },
  "cells": [
    {
      "cell_type": "markdown",
      "metadata": {
        "id": "view-in-github",
        "colab_type": "text"
      },
      "source": [
        "<a href=\"https://colab.research.google.com/github/Yaniii2021/DSAL/blob/main/lab_1_challenge_part_2.ipynb\" target=\"_parent\"><img src=\"https://colab.research.google.com/assets/colab-badge.svg\" alt=\"Open In Colab\"/></a>"
      ]
    },
    {
      "cell_type": "code",
      "metadata": {
        "colab": {
          "base_uri": "https://localhost:8080/"
        },
        "id": "SlUFnYDV59JE",
        "outputId": "2133be40-a6e5-495a-c0f8-3a09310d763e"
      },
      "source": [
        "#dl file 1 as .py\n",
        "##upload to gdrive - colab notebooks \n",
        "##Mount gdrive\n",
        "\n",
        "\n",
        "##import gdrive to python path\n",
        "import sys\n",
        "sys.path.insert(0,'/content/drive/MyDrive/Colab Notebooks')\n",
        "\n",
        "\n",
        "##import file as sumsht\n",
        "import lab_1_challenge as yumyum\n",
        "\n",
        "\n",
        "#instantiate menudo\n",
        "menudong_tite = yumyum.Food()\n",
        "menudong_tite.getDetails()\n",
        "menudong_tite.setDetails()\n",
        "menudong_tite.getDetails()\n",
        "\n",
        "#instantiate adobo\n",
        "adobong_tite = yumyum.Food()\n",
        "adobong_tite.getDetails()\n",
        "adobong_tite.setDetails()\n",
        "adobong_tite.getDetails()\n",
        "\n",
        "\n"
      ],
      "execution_count": null,
      "outputs": [
        {
          "output_type": "stream",
          "name": "stdout",
          "text": [
            "A new food has been cooked.\n",
            "\n",
            "Ingredients: No ingredients yet.\n",
            "Price: 0\n",
            "    \n",
            "Please input the ingredients for your food: bayag\n",
            "Please input the price: 69\n",
            " \n",
            "\n",
            "Ingredients: bayag\n",
            "Price: 69\n",
            "    \n",
            "A new food has been cooked.\n",
            "\n",
            "Ingredients: No ingredients yet.\n",
            "Price: 0\n",
            "    \n",
            "Please input the ingredients for your food: betlog\n",
            "Please input the price: 69\n",
            " \n",
            "\n",
            "Ingredients: betlog\n",
            "Price: 69\n",
            "    \n"
          ]
        }
      ]
    }
  ]
}